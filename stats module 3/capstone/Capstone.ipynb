{
 "cells": [
  {
   "cell_type": "markdown",
   "id": "90e28fb3",
   "metadata": {},
   "source": [
    "# Human Resource Analytics\n",
    "The primary goal here is to work towards the betterment of employees of a MNC and to make an employee friendly environment. Recently the organisation has started collecting data from employees about their satisfaction towards the company along with internal review of the employee performance. They are interested in the factor/s that affect the satisfaction of employees along with their increased productivity.\n",
    "\n",
    "## 1. Problem Statement:\n",
    "* Objective: To explore the HR data and provide relevant insights. By transforming these insights into practical strategies, the organisation can make significant strides in improving the working environment and productivity of employees.\n",
    "* Problem statement: To reiterate, the organisation aims to optimise the environment and productivity of employees. To accomplish this goal, you need to understand extremes, patterns and associations with applications of probability and distributions.\n",
    "\n",
    "## 2. Formalization of the Problem\n",
    "In order to achieve this goal, we need to understand what success looks like in a clear and measurable way. Let's break down the main goals for the organisation entity using the questions provided.\n",
    "* Understand the distributions and patterns within the HR data.\n",
    "* Analyse the extremes within the data.\n",
    "* Answering key questions related to probability and distributions of the data.\n",
    "\n",
    "In our analysis, we'll look for insights into how these factors affect the organisation's success, as measured by identifying the patterns that could impact satisfaction and productivity of employees.\n",
    "\n",
    "## 3. Data collection and processing\n",
    "Link of the data: https://docs.google.com/spreadsheets/d/1kVgE55tJhOQh40eTv9LA2XLtqi5jueDmizhqbIunMDA/edit?usp=sharing\n",
    "We downloaded the data in project folder with csv format and renamed in hr-data. Now make the dataframe."
   ]
  },
  {
   "cell_type": "markdown",
   "id": "7d1d42a4",
   "metadata": {},
   "source": [
    "### Import necessary libraries"
   ]
  },
  {
   "cell_type": "code",
   "execution_count": 105,
   "id": "93762327",
   "metadata": {},
   "outputs": [],
   "source": [
    "import pandas as pd\n",
    "import numpy as np\n",
    "import matplotlib.pyplot as plt\n",
    "import seaborn as sns"
   ]
  },
  {
   "cell_type": "markdown",
   "id": "f3774fd9",
   "metadata": {},
   "source": [
    "### Make dataframe and see the sample data"
   ]
  },
  {
   "cell_type": "code",
   "execution_count": 106,
   "id": "2728ce4e",
   "metadata": {},
   "outputs": [
    {
     "data": {
      "text/html": [
       "<div>\n",
       "<style scoped>\n",
       "    .dataframe tbody tr th:only-of-type {\n",
       "        vertical-align: middle;\n",
       "    }\n",
       "\n",
       "    .dataframe tbody tr th {\n",
       "        vertical-align: top;\n",
       "    }\n",
       "\n",
       "    .dataframe thead th {\n",
       "        text-align: right;\n",
       "    }\n",
       "</style>\n",
       "<table border=\"1\" class=\"dataframe\">\n",
       "  <thead>\n",
       "    <tr style=\"text-align: right;\">\n",
       "      <th></th>\n",
       "      <th>EmployeeId</th>\n",
       "      <th>Hrs</th>\n",
       "      <th>Rating</th>\n",
       "      <th>EmployeeSatisfaction</th>\n",
       "    </tr>\n",
       "  </thead>\n",
       "  <tbody>\n",
       "    <tr>\n",
       "      <th>0</th>\n",
       "      <td>E01</td>\n",
       "      <td>12.118051</td>\n",
       "      <td>Excellent</td>\n",
       "      <td>6</td>\n",
       "    </tr>\n",
       "    <tr>\n",
       "      <th>1</th>\n",
       "      <td>E02</td>\n",
       "      <td>13.298281</td>\n",
       "      <td>Excellent</td>\n",
       "      <td>8</td>\n",
       "    </tr>\n",
       "    <tr>\n",
       "      <th>2</th>\n",
       "      <td>E03</td>\n",
       "      <td>13.276334</td>\n",
       "      <td>Excellent</td>\n",
       "      <td>7</td>\n",
       "    </tr>\n",
       "    <tr>\n",
       "      <th>3</th>\n",
       "      <td>E04</td>\n",
       "      <td>10.798173</td>\n",
       "      <td>Excellent</td>\n",
       "      <td>9</td>\n",
       "    </tr>\n",
       "    <tr>\n",
       "      <th>4</th>\n",
       "      <td>E05</td>\n",
       "      <td>11.579172</td>\n",
       "      <td>Excellent</td>\n",
       "      <td>8</td>\n",
       "    </tr>\n",
       "  </tbody>\n",
       "</table>\n",
       "</div>"
      ],
      "text/plain": [
       "  EmployeeId        Hrs     Rating  EmployeeSatisfaction\n",
       "0        E01  12.118051  Excellent                     6\n",
       "1        E02  13.298281  Excellent                     8\n",
       "2        E03  13.276334  Excellent                     7\n",
       "3        E04  10.798173  Excellent                     9\n",
       "4        E05  11.579172  Excellent                     8"
      ]
     },
     "execution_count": 106,
     "metadata": {},
     "output_type": "execute_result"
    }
   ],
   "source": [
    "data = pd.read_csv('hr-data.csv')\n",
    "data.head()"
   ]
  },
  {
   "cell_type": "markdown",
   "id": "319d982c",
   "metadata": {},
   "source": [
    "#### Let’s take a look into the Columns:\n",
    "\n",
    "* 1. EmployeeId: Employee Id (this is system generated while collecting sample)\n",
    "* 2. Hrs: Average number of hours an employee works per day in an organisation.\n",
    "* 3. Rating: Rating provided by organisation to employees based on different factors, out of which Number of hours is one. There are 4 separate categories:\n",
    "    * a. Outstanding - Best rating\n",
    "    * b. Excellent - Second best rating\n",
    "    * c. Satisfactory - Third best rating\n",
    "    * d. Unsatisfactory - Least rating\n",
    "\n",
    "* 4. EmployeeSatisfaction: The satisfaction score given by employees towards the organisation. This is a score out of 10. \n",
    "\n"
   ]
  },
  {
   "cell_type": "markdown",
   "id": "d1fd87c3",
   "metadata": {},
   "source": [
    "### Q1. How many observations are there in the dataset?"
   ]
  },
  {
   "cell_type": "code",
   "execution_count": 107,
   "id": "25ddd1f7",
   "metadata": {},
   "outputs": [
    {
     "name": "stdout",
     "output_type": "stream",
     "text": [
      "There are 500 observations in the dataset.\n"
     ]
    }
   ],
   "source": [
    "rows, cols = data.shape\n",
    "print(f'There are {rows} observations in the dataset.')"
   ]
  },
  {
   "cell_type": "markdown",
   "id": "bf945a03",
   "metadata": {},
   "source": [
    "### Q2. How many variables have missing values?"
   ]
  },
  {
   "cell_type": "code",
   "execution_count": 108,
   "id": "4bd1c0f7",
   "metadata": {},
   "outputs": [
    {
     "name": "stdout",
     "output_type": "stream",
     "text": [
      "There are 1 variable that have missing values.\n",
      "Name of the variable is 'Hrs'\n"
     ]
    }
   ],
   "source": [
    "missing_cols = []\n",
    "\n",
    "for col in data:\n",
    "    if data[col].isnull().sum() > 0:\n",
    "        missing_cols.append(col)\n",
    "        \n",
    "print(f\"There are {len(missing_cols)} variable that have missing values.\\n\\\n",
    "Name of the variable is '{missing_cols[0]}'\")"
   ]
  },
  {
   "cell_type": "markdown",
   "id": "f929ba68",
   "metadata": {},
   "source": [
    "### Q3. How many missing values are present within the Hrs variable?"
   ]
  },
  {
   "cell_type": "code",
   "execution_count": 109,
   "id": "a72a7b94",
   "metadata": {},
   "outputs": [
    {
     "name": "stdout",
     "output_type": "stream",
     "text": [
      "Total missing values in Hrs variable is: 8\n"
     ]
    }
   ],
   "source": [
    "missing_hrs = data['Hrs'].isnull().sum()\n",
    "print(f'Total missing values in Hrs variable is: {missing_hrs}')"
   ]
  },
  {
   "cell_type": "markdown",
   "id": "5e6f9260",
   "metadata": {},
   "source": [
    "### Q4. What is the average value for the Hrs variable? Round it off to 2 decimal places."
   ]
  },
  {
   "cell_type": "code",
   "execution_count": 110,
   "id": "168a9a45",
   "metadata": {},
   "outputs": [
    {
     "name": "stdout",
     "output_type": "stream",
     "text": [
      "Average value of Hrs variable is: 11.31\n"
     ]
    }
   ],
   "source": [
    "avg_hrs = round(data.Hrs.mean(), 2)\n",
    "print('Average value of Hrs variable is:', avg_hrs)"
   ]
  },
  {
   "cell_type": "markdown",
   "id": "be433a25",
   "metadata": {},
   "source": [
    "### Q5. Is there any outliers in Hrs variable?"
   ]
  },
  {
   "cell_type": "code",
   "execution_count": 111,
   "id": "aa60b834",
   "metadata": {},
   "outputs": [
    {
     "name": "stdout",
     "output_type": "stream",
     "text": [
      "Lower and upper bound is: 5.352980274375001 and 16.976678419375\n",
      "There are outliers in Hrs variable\n",
      "[120.398464, 1.377450075, 0.091720323]\n"
     ]
    }
   ],
   "source": [
    "# Detect outliers with IQR method\n",
    "q1 = data.Hrs.quantile(0.25)\n",
    "q3 = data.Hrs.quantile(0.75)\n",
    "iqr = q3 - q1\n",
    "\n",
    "upper = q3 + 1.5*iqr\n",
    "lower = q1 - 1.5*iqr\n",
    "print(f'Lower and upper bound is: {lower} and {upper}')\n",
    "outliers = []\n",
    "\n",
    "for hr in data.Hrs:\n",
    "    if (hr < lower) | (hr > upper):\n",
    "        outliers.append(hr)\n",
    "        \n",
    "if len(outliers) > 0:\n",
    "    print('There are outliers in Hrs variable')\n",
    "else: \n",
    "    print('There are no outliers in Hrs variable')\n",
    "    \n",
    "print(outliers)"
   ]
  },
  {
   "cell_type": "markdown",
   "id": "7e79c883",
   "metadata": {},
   "source": [
    "### Q6. Choose the correct variable type for EmployeeSatisfaction."
   ]
  },
  {
   "cell_type": "code",
   "execution_count": 112,
   "id": "ce45409e",
   "metadata": {},
   "outputs": [
    {
     "name": "stdout",
     "output_type": "stream",
     "text": [
      "EmployeeSatisfation variable is Discrete Quantitative Data Type.\n",
      "\n",
      "Reason: Discrete data consists of numerical values that are distinct and separate,and in this case, the satisfaction rating can only take on specific, whole number valueswithin the range of 0 to 10. Each value represents a separate category or level of satisfaction,making it discrete rather than continuous.\n"
     ]
    }
   ],
   "source": [
    "print('EmployeeSatisfation variable is Discrete Quantitative Data Type.\\n\\n\\\n",
    "Reason: Discrete data consists of numerical values that are distinct and separate,\\\n",
    "and in this case, the satisfaction rating can only take on specific, whole number values\\\n",
    "within the range of 0 to 10. Each value represents a separate category or level of satisfaction,\\\n",
    "making it discrete rather than continuous.')"
   ]
  },
  {
   "cell_type": "markdown",
   "id": "b13756ab",
   "metadata": {},
   "source": [
    "### Q7. What is the cardinality of the Rating variable in the dataset?"
   ]
  },
  {
   "cell_type": "code",
   "execution_count": 113,
   "id": "ced26500",
   "metadata": {},
   "outputs": [
    {
     "name": "stdout",
     "output_type": "stream",
     "text": [
      "The cardinality of the Rating variable is: 6\n"
     ]
    }
   ],
   "source": [
    "rating_cardinality = len(data.Rating.value_counts().index)\n",
    "print(f'The cardinality of the Rating variable is: {rating_cardinality}')"
   ]
  },
  {
   "cell_type": "markdown",
   "id": "ca15aa18",
   "metadata": {},
   "source": [
    "### Q8. Choose the correct variable type for hours Ratings.\n"
   ]
  },
  {
   "cell_type": "code",
   "execution_count": 114,
   "id": "ec5d456f",
   "metadata": {},
   "outputs": [
    {
     "name": "stdout",
     "output_type": "stream",
     "text": [
      "Ratings is Ordinal Categorical Data\n",
      "\n",
      "Reason: Ordinal categorical variables represent categories with a natural order or ranking, and \"Excellent\" is likely one such category within a rating scale that may include other categories like \"Good,\" \"Fair,\" etc. These categories have an inherent order, suggesting that \"Excellent\" is higher than other possible ratings.\n"
     ]
    }
   ],
   "source": [
    "print('Ratings is Ordinal Categorical Data\\n\\n\\\n",
    "Reason: Ordinal categorical variables represent categories with a natural order \\\n",
    "or ranking, and \"Excellent\" is likely one such category within a rating scale that \\\n",
    "may include other categories like \"Good,\" \"Fair,\" etc. These categories have an inherent order, \\\n",
    "suggesting that \"Excellent\" is higher than other possible ratings.')"
   ]
  },
  {
   "cell_type": "markdown",
   "id": "97e14f0c",
   "metadata": {},
   "source": [
    "## Data Cleaning\n",
    "\n",
    "Cleaning our data in these ways will make sure that our analysis is based on accurate, consistent, and reliable information. This helps us get the best results and make the right decisions. Remember, having clean data is essential for a successful data analysis project!\n",
    "\n",
    "Here are some data cleaning tasks for the given dataset. Please perform the following:\n",
    "\n",
    "### Standardise the Rating column: Make the column consistent so that it has cardinality of 4. \n",
    "[Hint: Use Unsatisfactory in place of Un satisfactory and Satisfactory in place of satisfactory]"
   ]
  },
  {
   "cell_type": "code",
   "execution_count": 115,
   "id": "879f91aa",
   "metadata": {},
   "outputs": [
    {
     "name": "stdout",
     "output_type": "stream",
     "text": [
      "Cardinality of Rating column before perform Standardise is: 6\n",
      "Unique values of rating before perform Standardise:\n",
      "['Excellent' 'Outstanding' 'Unsatisfactory' 'satisfactory' 'Satisfactory'\n",
      " 'Un satisfactory']\n",
      "\n",
      "Cardinality of Rating column after perform Standardise is: 4\n",
      "Unique values of rating after perform Standardise:\n",
      "['Excellent' 'Outstanding' 'Unsatisfactory' 'Satisfactory']\n"
     ]
    }
   ],
   "source": [
    "unique_before = data.Rating.unique()\n",
    "cardinality_before = data.Rating.nunique()\n",
    "\n",
    "# Print result before perform Standardise\n",
    "print('Cardinality of Rating column before perform Standardise is:', cardinality_before)\n",
    "print(f'Unique values of rating before perform Standardise:\\n{unique_before}')\n",
    "\n",
    "# Standardise Rating column\n",
    "data['Rating'] = data.Rating.replace({'Un satisfactory': 'Unsatisfactory', 'satisfactory': 'Satisfactory'})\n",
    "\n",
    "unique_after = data.Rating.unique()\n",
    "cardinality_after = data.Rating.nunique()\n",
    "\n",
    "# Print result before perform Standardise\n",
    "print('\\nCardinality of Rating column after perform Standardise is:', cardinality_after)\n",
    "print(f'Unique values of rating after perform Standardise:\\n{unique_after}')"
   ]
  },
  {
   "cell_type": "markdown",
   "id": "2de930be",
   "metadata": {},
   "source": [
    "### Remove any empty or incomplete rows: \n",
    "Check if there are any rows with missing data. Substitute these values with the mean of numerical or mode for non-numerical data. [Challenge yourself: Try to fill mean/mode value corresponding to individual individual ratings]"
   ]
  },
  {
   "cell_type": "code",
   "execution_count": 116,
   "id": "da3a7cbf",
   "metadata": {},
   "outputs": [
    {
     "name": "stdout",
     "output_type": "stream",
     "text": [
      "Data information before perform:\n",
      "\n",
      "<class 'pandas.core.frame.DataFrame'>\n",
      "RangeIndex: 500 entries, 0 to 499\n",
      "Data columns (total 4 columns):\n",
      " #   Column                Non-Null Count  Dtype  \n",
      "---  ------                --------------  -----  \n",
      " 0   EmployeeId            500 non-null    object \n",
      " 1   Hrs                   492 non-null    float64\n",
      " 2   Rating                500 non-null    object \n",
      " 3   EmployeeSatisfaction  500 non-null    int64  \n",
      "dtypes: float64(1), int64(1), object(2)\n",
      "memory usage: 15.8+ KB\n",
      "None\n",
      "\n",
      "Total null values in Hrs column before perform: 8\n",
      "\n",
      "-----------------------------------------\n",
      "\n",
      "Data information after perform:\n",
      "\n",
      "<class 'pandas.core.frame.DataFrame'>\n",
      "RangeIndex: 500 entries, 0 to 499\n",
      "Data columns (total 4 columns):\n",
      " #   Column                Non-Null Count  Dtype  \n",
      "---  ------                --------------  -----  \n",
      " 0   EmployeeId            500 non-null    object \n",
      " 1   Hrs                   500 non-null    float64\n",
      " 2   Rating                500 non-null    object \n",
      " 3   EmployeeSatisfaction  500 non-null    int64  \n",
      "dtypes: float64(1), int64(1), object(2)\n",
      "memory usage: 15.8+ KB\n",
      "None\n",
      "\n",
      "Total null values in Hrs column before perform: 0\n"
     ]
    }
   ],
   "source": [
    "# Print data info before perform\n",
    "print(f'Data information before perform:\\n')\n",
    "print(data.info())\n",
    "\n",
    "# Total outliers in Hrs column\n",
    "null_before = data.Hrs.isnull().sum()\n",
    "\n",
    "print('\\nTotal null values in Hrs column before perform:', null_before)\n",
    "print('\\n-----------------------------------------\\n')\n",
    "\n",
    "# Fill null with mean of Hrs\n",
    "data['Hrs'] = data.Hrs.fillna(data.Hrs.mean())\n",
    "\n",
    "# Print data info after perform\n",
    "print(f'Data information after perform:\\n')\n",
    "print(data.info())\n",
    "\n",
    "# Total outliers in Hrs column\n",
    "null_after = data.Hrs.isnull().sum()\n",
    "\n",
    "print('\\nTotal null values in Hrs column before perform:', null_after)"
   ]
  },
  {
   "cell_type": "markdown",
   "id": "73bc29a9",
   "metadata": {},
   "source": [
    "## 4. Data Analysis\n",
    "### Part 1) Understanding the distributions and patterns within the HR data.\n",
    "One of the primary objectives here is to understand the distributions and patterns within the data. We want to understand why an employee has a satisfactory or unsatisfactory performance as compared to excellent/outstanding performance. This helps in understanding the employee performance within the company and the factors that contribute towards it.\n",
    "\n",
    "### Q1. Calculate the mode of the employee performance in the rating column. Choose the correct option."
   ]
  },
  {
   "cell_type": "code",
   "execution_count": 122,
   "id": "c02d9fbc",
   "metadata": {},
   "outputs": [
    {
     "name": "stdout",
     "output_type": "stream",
     "text": [
      "Mode value of Rating is: Excellent\n"
     ]
    }
   ],
   "source": [
    "rating_mode = data.Rating.mode()[0]\n",
    "print('Mode value of Rating is:', rating_mode)"
   ]
  },
  {
   "cell_type": "markdown",
   "id": "1a2e3d31",
   "metadata": {},
   "source": [
    "### Q2. Calculate the range of hours the employee is working for in case of unsatisfactory rating.\n",
    "\n",
    "\n"
   ]
  },
  {
   "cell_type": "code",
   "execution_count": 130,
   "id": "4820a914",
   "metadata": {},
   "outputs": [
    {
     "name": "stdout",
     "output_type": "stream",
     "text": [
      "Range of Hours the employee working for:\n",
      "min: 0.091720323\n",
      "max: 8.489765491\n"
     ]
    }
   ],
   "source": [
    "unsatisfactory_data = data[data.Rating == 'Unsatisfactory']\n",
    "hrs_min = unsatisfactory_data.Hrs.min()\n",
    "hrs_max = unsatisfactory_data.Hrs.max()\n",
    "print(f'Range of Hours the employee working for:\\n\\\n",
    "min: {hrs_min}\\nmax: {hrs_max}')"
   ]
  },
  {
   "cell_type": "markdown",
   "id": "a906cb07",
   "metadata": {},
   "source": [
    "These stats help us in understanding the different rating factors closely.  We are able to understand that satisfactory and unsatisfactory performances have quite a say in their ratings. Lower ratings are given to employees who are working for lesser hours.\n",
    "\n",
    "### Q3. Check out the distribution of the Hrs variable using histogram and boxplot. Where do we have the outliers?"
   ]
  },
  {
   "cell_type": "code",
   "execution_count": 146,
   "id": "aed4ed16",
   "metadata": {},
   "outputs": [
    {
     "data": {
      "image/png": "[encoded data removed]",
      "text/plain": [
       "<Figure size 1500x500 with 2 Axes>"
      ]
     },
     "metadata": {},
     "output_type": "display_data"
    },
    {
     "name": "stdout",
     "output_type": "stream",
     "text": [
      "Outliers is in both higher and lower sides\n"
     ]
    }
   ],
   "source": [
    "# Create 2 subplots\n",
    "fig, axs = plt.subplots(1, 2, figsize=(15,5))\n",
    "\n",
    "# Create histogram for Hrs\n",
    "sns.set_style('darkgrid')\n",
    "sns.histplot(data=data, x='Hrs', kde=True, ax=axs[0])\n",
    "axs[0].set_title('Histogram for Hrs', fontsize=16, fontweight='bold')\n",
    "\n",
    "# Barplot for Hrs\n",
    "sns.boxplot(data=data, x='Hrs', ax=axs[1])\n",
    "axs[1].set_title('Box Plot for Hrs', fontsize=16, fontweight='bold')\n",
    "plt.tight_layout()\n",
    "plt.show()\n",
    "\n",
    "print('Outliers is in both higher and lower sides')"
   ]
  },
  {
   "cell_type": "markdown",
   "id": "958b2a34",
   "metadata": {},
   "source": [
    "If you closely take a look in these distribution charts, you can clearly see that the majority of the Hours are centred around 8 to 14 which clearly indicates the outliers towards the higher and lower side..\n",
    "\n",
    "A histogram will give you a peek into how your distribution looks like. You can define the number of peaks which means it can be a unimodal, bimodal or multimodal distribution depending on the peaks involved.\n",
    "\n",
    "A box plot on the other hand helps you understand min, max and interquartile range where most of the data is centred around.\n",
    "\n",
    "With these 2 charts, you can easily understand the extremes involved in the data. Do understand that extremes/outliers require some thoughtful investigation before we actually take the decision of removing/retaining them.\n",
    "### Q4. Choose the correct histogram and boxplot for the Hrs variable."
   ]
  },
  {
   "cell_type": "code",
   "execution_count": 147,
   "id": "93e67494",
   "metadata": {},
   "outputs": [
    {
     "name": "stdout",
     "output_type": "stream",
     "text": [
      "As the above picture\n"
     ]
    }
   ],
   "source": [
    "print('As the above picture')"
   ]
  },
  {
   "cell_type": "markdown",
   "id": "cb13495a",
   "metadata": {},
   "source": [
    "### Q5. Choose the correct frequency plot for Rating."
   ]
  },
  {
   "cell_type": "code",
   "execution_count": 153,
   "id": "804097d3",
   "metadata": {},
   "outputs": [
    {
     "data": {
      "image/png": "[encoded data removed]",
      "text/plain": [
       "<Figure size 640x480 with 1 Axes>"
      ]
     },
     "metadata": {},
     "output_type": "display_data"
    }
   ],
   "source": [
    "sns.countplot(data=data, x=data.Rating, hue=data.Rating, palette='cubehelix')\n",
    "plt.title('Frequency of Rating', fontsize=16, fontweight='bold')\n",
    "\n",
    "plt.tight_layout()\n",
    "plt.show()"
   ]
  },
  {
   "cell_type": "markdown",
   "id": "4874fcac",
   "metadata": {},
   "source": [
    "We can clearly see that the highest frequency is for Excellent rating followed by outstanding and unsatisfactory. Also, we can see that the majority of employees are giving 6 or 7 satisfaction scores which means that the majority of employees aren’t that happy due to lower work life balance. Therefore, our major focus should be towards increasing the work life balance of the employees rather than rewarding the higher number of work hours from the employees.\n",
    "\n",
    "### Q6. Choose the correct frequencies for Employee Satisfaction Score.\n",
    "\n",
    "\n"
   ]
  },
  {
   "cell_type": "code",
   "execution_count": 165,
   "id": "4fbe62f6",
   "metadata": {},
   "outputs": [
    {
     "data": {
      "image/png": "[encoded data removed]",
      "text/plain": [
       "<Figure size 640x480 with 1 Axes>"
      ]
     },
     "metadata": {},
     "output_type": "display_data"
    },
    {
     "data": {
      "text/plain": [
       "EmployeeSatisfaction\n",
       "7    161\n",
       "6    142\n",
       "8    132\n",
       "9     65\n",
       "Name: count, dtype: int64"
      ]
     },
     "execution_count": 165,
     "metadata": {},
     "output_type": "execute_result"
    }
   ],
   "source": [
    "frequency = data.EmployeeSatisfaction.value_counts()\n",
    "frequency\n",
    "\n",
    "# Plot\n",
    "sns.countplot(data=data, x=data.EmployeeSatisfaction, \n",
    "              hue=data.EmployeeSatisfaction, \n",
    "              palette='cubehelix', legend=False)\n",
    "plt.title('Frequency of Employee Satisfaction', fontsize=16, fontweight='bold')\n",
    "plt.tight_layout()\n",
    "plt.show()\n",
    "\n",
    "frequency = data.EmployeeSatisfaction.value_counts()\n",
    "frequency"
   ]
  },
  {
   "cell_type": "markdown",
   "id": "f2468703",
   "metadata": {},
   "source": [
    "### Q7. Which rating has the highest number of average working hours?"
   ]
  },
  {
   "cell_type": "code",
   "execution_count": 204,
   "id": "61e63923",
   "metadata": {},
   "outputs": [
    {
     "data": {
      "image/png": "[encoded data removed]",
      "text/plain": [
       "<Figure size 640x480 with 1 Axes>"
      ]
     },
     "metadata": {},
     "output_type": "display_data"
    },
    {
     "name": "stdout",
     "output_type": "stream",
     "text": [
      "Rating with highest number of average working hours is: Outstanding\n"
     ]
    }
   ],
   "source": [
    "rating_group = data.groupby('Rating')['Hrs'].mean()\n",
    "sns.barplot(x=rating_group.index, y=rating_group.values, hue=rating_group.values, palette='cubehelix', legend=False)\n",
    "plt.xlabel('Rating')\n",
    "plt.ylabel('Average Hours')\n",
    "plt.title('Average Working Hours by Rating', fontweight='bold')\n",
    "plt.show()\n",
    "\n",
    "print('Rating with highest number of average working hours is:', rating_group.idxmax())"
   ]
  },
  {
   "cell_type": "markdown",
   "id": "50f769e5",
   "metadata": {},
   "source": [
    "## Part 2) Identifying and excluding the outliers!\n",
    "### Q8.1. Identify the correct upper and lower cut off within Hrs using IQR rule to exclude the outliers. Round off to 2 decimal places."
   ]
  },
  {
   "cell_type": "code",
   "execution_count": 208,
   "id": "3d873e1d",
   "metadata": {},
   "outputs": [
    {
     "name": "stdout",
     "output_type": "stream",
     "text": [
      "Upper cut of of Hrs is: 16.89\n",
      "Lower cut of of Hrs is: 5.48\n"
     ]
    }
   ],
   "source": [
    "q1 = data.Hrs.quantile(0.25)\n",
    "q3 = data.Hrs.quantile(0.75)\n",
    "iqr = q3 - q1\n",
    "\n",
    "upper = q3 + 1.5*iqr\n",
    "lower = q1 - 1.5*iqr\n",
    "\n",
    "print('Upper cut of of Hrs is:', round(upper, 2))\n",
    "print('Lower cut of of Hrs is:', round(lower, 2))"
   ]
  },
  {
   "cell_type": "markdown",
   "id": "8200fd01",
   "metadata": {},
   "source": [
    "### Q8.2. After treatment with the outliers, what’s the mean value for Hrs variable?"
   ]
  },
  {
   "cell_type": "code",
   "execution_count": 228,
   "id": "b7a2f798",
   "metadata": {},
   "outputs": [
    {
     "name": "stdout",
     "output_type": "stream",
     "text": [
      "Mean of Hrs after treatmen is: 11.12\n"
     ]
    }
   ],
   "source": [
    "# Outlier treatment\n",
    "data['Hrs'] = np.clip(data['Hrs'], a_min=lower, a_max=upper)\n",
    "\n",
    "# Mean after treatment\n",
    "hrs_mean = round(data.Hrs.mean(), 2)\n",
    "\n",
    "print('Mean of Hrs after treatmen is:', hrs_mean)"
   ]
  },
  {
   "cell_type": "markdown",
   "id": "cb508b6f",
   "metadata": {},
   "source": [
    "### Q8.3. After treatment of outliers, which rating isn’t witnessing changes with respect to Hrs variable?"
   ]
  },
  {
   "cell_type": "code",
   "execution_count": 226,
   "id": "eb54fe35",
   "metadata": {},
   "outputs": [
    {
     "data": {
      "image/png": "[encoded data removed]",
      "text/plain": [
       "<Figure size 640x480 with 1 Axes>"
      ]
     },
     "metadata": {},
     "output_type": "display_data"
    },
    {
     "name": "stdout",
     "output_type": "stream",
     "text": [
      "Rating with highest number of average working hours is: Outstanding\n"
     ]
    }
   ],
   "source": [
    "rating_group = data.groupby('Rating')['Hrs'].mean()\n",
    "sns.barplot(x=rating_group.index, y=rating_group.values, hue=rating_group.values, palette='cubehelix', legend=False)\n",
    "plt.xlabel('Rating')\n",
    "plt.ylabel('Average Hours')\n",
    "plt.title('Average Working Hours by Rating', fontweight='bold')\n",
    "plt.show()\n",
    "\n",
    "print('Rating with highest number of average working hours is:', rating_group.idxmax())"
   ]
  },
  {
   "cell_type": "markdown",
   "id": "5897a698",
   "metadata": {},
   "source": [
    "Identifying the cut off values in order to deal with outliers are a great way to restrict the data. Now, it depends on the domain/context of the problem that we want to restrict the data to these cut off values or not.\n",
    "Do understand that these congestion rates are part of a realistic scenario and not because of some error in the data. Therefore, it's better to continue with the analysis as such.\n",
    "\n",
    "## Part 3) Understanding probability distributions and Confidence interval\n",
    "In our current problem, we have been given a sample of 500 employees. Let’s understand our Rating and Hour variable more closely by understanding their probability distributions and estimate their confidence intervals.\n",
    "\n",
    "### Q9. Let’s first try to understand the Rating variable. Please identify the probabilities for each rating within the dataset.\n",
    "[Hint: Use value_counts]"
   ]
  },
  {
   "cell_type": "code",
   "execution_count": 241,
   "id": "63f47ee3",
   "metadata": {},
   "outputs": [
    {
     "name": "stdout",
     "output_type": "stream",
     "text": [
      "Probabilities for each rating:\n",
      "Rating\n",
      "Excellent         74.2\n",
      "Outstanding        9.4\n",
      "Unsatisfactory     9.4\n",
      "Satisfactory       7.0\n",
      "Name: count, dtype: float64\n"
     ]
    }
   ],
   "source": [
    "rating_counts = data['Rating'].value_counts()\n",
    "\n",
    "# Calculate total number of ratings\n",
    "total_ratings = len(data['Rating'])\n",
    "\n",
    "# Calculate probabilities for each rating\n",
    "rating_probabilities = rating_counts / total_ratings\n",
    "\n",
    "# Print the probabilities for each rating\n",
    "print(\"Probabilities for each rating:\")\n",
    "print(rating_probabilities*100)"
   ]
  },
  {
   "cell_type": "markdown",
   "id": "db0d6c71",
   "metadata": {},
   "source": [
    "### Q10. Now considering the probabilities calculated in previous questions, Please calculate the probability that 2 out of a sample of 10 employees are rated as outstanding. \n",
    "Round it off to 2 decimal places. [Hint: Use binomial distribution]\n",
    "\n"
   ]
  },
  {
   "cell_type": "code",
   "execution_count": 242,
   "id": "4b8dc885",
   "metadata": {},
   "outputs": [
    {
     "name": "stdout",
     "output_type": "stream",
     "text": [
      "Probability that 2 out of 10 employees are rated as outstanding: 0.18\n"
     ]
    }
   ],
   "source": [
    "from scipy.stats import binom\n",
    "\n",
    "# Probability of an employee being rated as outstanding\n",
    "p = rating_probabilities.get('Outstanding', 0)  # Get probability of Outstanding rating, default to 0 if not found\n",
    "\n",
    "# Total number of employees in the sample\n",
    "n = 10\n",
    "\n",
    "# Number of outstanding ratings\n",
    "k = 2\n",
    "\n",
    "# Calculate the probability using the binomial distribution PMF\n",
    "probability = binom.pmf(k, n, p)\n",
    "\n",
    "# Round off the probability to 2 decimal places\n",
    "probability_rounded = round(probability, 2)\n",
    "\n",
    "# Print the calculated probability\n",
    "print(\"Probability that 2 out of 10 employees are rated as outstanding:\", probability_rounded)\n"
   ]
  },
  {
   "cell_type": "markdown",
   "id": "0952ff02",
   "metadata": {},
   "source": [
    "### Q11.1. Please calculate the probability that at least 3 out of a sample of 10 employees are rated as outstanding. \n",
    "Round it off to 2 decimal places."
   ]
  },
  {
   "cell_type": "code",
   "execution_count": 244,
   "id": "6c8d28ee",
   "metadata": {},
   "outputs": [
    {
     "name": "stdout",
     "output_type": "stream",
     "text": [
      "Probability that at least 3 out of 10 employees are rated as outstanding: 0.06\n"
     ]
    }
   ],
   "source": [
    "p = rating_probabilities.get('Outstanding', 0)  # Get probability of Outstanding rating, default to 0 if not found\n",
    "\n",
    "# Total number of employees in the sample\n",
    "n = 10\n",
    "\n",
    "# Number of outstanding ratings\n",
    "k_min = 3\n",
    "\n",
    "# Calculate the probability using the binomial distribution CDF\n",
    "probability = 1 - binom.cdf(k_min - 1, n, p)\n",
    "\n",
    "# Round off the probability to 2 decimal places\n",
    "probability_rounded = round(probability, 2)\n",
    "\n",
    "# Print the calculated probability\n",
    "print(\"Probability that at least 3 out of 10 employees are rated as outstanding:\", probability_rounded)"
   ]
  },
  {
   "cell_type": "markdown",
   "id": "1796650f",
   "metadata": {},
   "source": [
    "### Q11.2. Please calculate the probability that at least 7 out of a sample of 10 employees are rated as outstanding or Excellent. Round it off to 2 decimal places. \n",
    "[Hint: Add up the probability of both the ratings]\n",
    "** The question is wrong. question should exact 7 out of 10 samples"
   ]
  },
  {
   "cell_type": "code",
   "execution_count": 268,
   "id": "7b898ce8",
   "metadata": {},
   "outputs": [
    {
     "name": "stdout",
     "output_type": "stream",
     "text": [
      "Probability of exact 7 out of 10 employees are rated as outstanding or Excellent: 0.15\n"
     ]
    }
   ],
   "source": [
    "p_outstanding = rating_probabilities.get('Outstanding')\n",
    "p_excellent = rating_probabilities.get('Excellent') \n",
    "p = p_outstanding + p_excellent\n",
    "n = 10\n",
    "k = 7\n",
    "\n",
    "prob = round(binom.pmf(k, n, p), 2)\n",
    "print(\"Probability of exact 7 out of 10 employees are rated as outstanding or Excellent:\", prob)\n"
   ]
  },
  {
   "cell_type": "markdown",
   "id": "5f277938",
   "metadata": {},
   "source": [
    "### Q11.3. Please calculate the probability that None of the trainees are rated as Unsatisfactory. Round it off to 2 decimal places."
   ]
  },
  {
   "cell_type": "code",
   "execution_count": 298,
   "id": "6ee8662b",
   "metadata": {},
   "outputs": [
    {
     "name": "stdout",
     "output_type": "stream",
     "text": [
      "Probability that none of the trainees are rated as Unsatisfactory: 0.37\n"
     ]
    }
   ],
   "source": [
    "p = rating_probabilities.get('Unsatisfactory')\n",
    "\n",
    "n = 10\n",
    "k = 0\n",
    "# Round off the probability to 2 decimal places\n",
    "prob = round(binom.pmf(k, n, p), 2)\n",
    "\n",
    "# Print the calculated probability\n",
    "print(\"Probability that none of the trainees are rated as Unsatisfactory:\", prob)"
   ]
  },
  {
   "cell_type": "markdown",
   "id": "b8ff3564",
   "metadata": {},
   "source": [
    "#####  By analysing these individual probabilities, we can understand that out of a randomly selected cohort of employees, what are the chances of occurrence of employees from these ratings. These kinds of probabilities help greatly if we have to randomly allocate the resources in a project for team building.\n",
    "\n",
    "### Q12. Let’s first try to understand the Hrs variable. Assuming that this variable follows close to normal distribution, what’s the probability that an employee will provide less than 9 hrs of service? \n",
    "Round it off to 2 decimal places. [Hint: Use mean and SD for Hrs variable after outlier removal]"
   ]
  },
  {
   "cell_type": "code",
   "execution_count": 299,
   "id": "4cea8f62",
   "metadata": {},
   "outputs": [
    {
     "name": "stdout",
     "output_type": "stream",
     "text": [
      "Probability that an employee will provide less than 9 hrs of service: 0.12\n"
     ]
    }
   ],
   "source": [
    "from scipy.stats import norm\n",
    "\n",
    "# Calculate the mean and standard deviation of the Hrs variable after outlier removal\n",
    "mean_hours = data['Hrs'].mean()\n",
    "std_hours = data['Hrs'].std()\n",
    "\n",
    "# Calculate the probability of an employee providing less than 9 hours of service using the CDF of the normal distribution\n",
    "probability_less_than_9_hours = norm.cdf(9, loc=mean_hours, scale=std_hours)\n",
    "\n",
    "# Round off the probability to 2 decimal places\n",
    "probability_rounded = round(probability_less_than_9_hours, 2)\n",
    "\n",
    "# Print the calculated probability\n",
    "print(\"Probability that an employee will provide less than 9 hrs of service:\", probability_rounded)\n"
   ]
  },
  {
   "cell_type": "markdown",
   "id": "800aa7e0",
   "metadata": {},
   "source": [
    "### Q13. What’s the probability that an employee will provide hours of service between 11 to 14? \n",
    "Round it off to 2 decimal places."
   ]
  },
  {
   "cell_type": "code",
   "execution_count": 300,
   "id": "aad3f47d",
   "metadata": {},
   "outputs": [
    {
     "name": "stdout",
     "output_type": "stream",
     "text": [
      "Probability that an employee will provide hours of service between 11 to 14: 0.47\n"
     ]
    }
   ],
   "source": [
    "# Calculate the probability of hours of service less than or equal to 14 hours\n",
    "probability_less_than_or_equal_to_14_hours = norm.cdf(14, loc=mean_hours, scale=std_hours)\n",
    "\n",
    "# Calculate the probability of hours of service less than or equal to 11 hours\n",
    "probability_less_than_or_equal_to_11_hours = norm.cdf(11, loc=mean_hours, scale=std_hours)\n",
    "\n",
    "# Calculate the probability of hours of service between 11 and 14 hours\n",
    "probability_between_11_and_14_hours = probability_less_than_or_equal_to_14_hours - probability_less_than_or_equal_to_11_hours\n",
    "\n",
    "# Round off the probability to 2 decimal places\n",
    "probability_rounded = round(probability_between_11_and_14_hours, 2)\n",
    "\n",
    "# Print the calculated probability\n",
    "print(\"Probability that an employee will provide hours of service between 11 to 14:\", probability_rounded)"
   ]
  },
  {
   "cell_type": "markdown",
   "id": "e86bd8b0",
   "metadata": {},
   "source": [
    "### Q14. Calculate the 95% Confidence interval for the average of Hrs variable."
   ]
  },
  {
   "cell_type": "code",
   "execution_count": 305,
   "id": "b1d99eb8",
   "metadata": {},
   "outputs": [
    {
     "name": "stdout",
     "output_type": "stream",
     "text": [
      "95% Confidence Interval for the average of Hrs variable: (10.96583433074658, 11.278051950183594)\n"
     ]
    }
   ],
   "source": [
    "import scipy.stats as stats\n",
    "\n",
    "# Determine the sample size\n",
    "n = len(data['Hrs'])\n",
    "\n",
    "# Find the critical value for a 95% confidence level and n-1 degrees of freedom\n",
    "t_critical = stats.t.ppf(0.975, df=n-1)  # 0.975 corresponds to (1 - 0.05/2)\n",
    "\n",
    "# Calculate the margin of error\n",
    "margin_of_error = t_critical * (std_hours / (n ** 0.5))\n",
    "\n",
    "# Calculate the lower and upper bounds of the confidence interval\n",
    "lower_bound = mean_hours - margin_of_error\n",
    "upper_bound = mean_hours + margin_of_error\n",
    "\n",
    "# Print the confidence interval\n",
    "print(\"95% Confidence Interval for the average of Hrs variable:\", (lower_bound, upper_bound))"
   ]
  },
  {
   "cell_type": "markdown",
   "id": "160dcdb5",
   "metadata": {},
   "source": [
    "##### Hrs variable is an important factor as established in our previous sections as well. The continuous distribution prospective enlightens us to understand the ranges of probabilities. \n",
    "\n",
    "As we can see, higher number of hours have higher chances of occurrence rather than lower ones. The 95% CI of average Hrs also supports this theory. This automatically promotes dissatisfaction among the employees unless we are compensating it by salaries, overtime or excellent perks.\n"
   ]
  },
  {
   "cell_type": "markdown",
   "id": "4bca950a",
   "metadata": {},
   "source": [
    "## Step 5) Presentation of results and Step 6) Provide Recommendations"
   ]
  },
  {
   "cell_type": "markdown",
   "id": "103ebe66",
   "metadata": {},
   "source": [
    "* 1. High Working Hours: Throughout the analysis, we have witnessed that the organisation somehow rewards the employees working for a high number of hours within the organisation. This could actually be counterproductive as the employees tend to slow and sluggish after a certain point. \n",
    "\n",
    "    * Here the recommendation that could be provided is estimating the hours of service that will be needed in a project beforehand for proper allocation of manpower. Higher working hours should be reserved for extreme deadlines or until and unless absolutely necessary.\n",
    "* 2. Work life balance: In our analysis, we have also witnessed that the highest frequency is for Excellent rating where employees tend to provide a good amount of working hours in general. This management should focus on better work life balance which means these scales should be estimated based on individual performances and their impact on the project rather than on the number of hours of service provided. "
   ]
  },
  {
   "cell_type": "code",
   "execution_count": null,
   "id": "ee1f77b7",
   "metadata": {},
   "outputs": [],
   "source": []
  }
 ],
 "metadata": {
  "kernelspec": {
   "display_name": "Python 3 (ipykernel)",
   "language": "python",
   "name": "python3"
  },
  "language_info": {
   "codemirror_mode": {
    "name": "ipython",
    "version": 3
   },
   "file_extension": ".py",
   "mimetype": "text/x-python",
   "name": "python",
   "nbconvert_exporter": "python",
   "pygments_lexer": "ipython3",
   "version": "3.11.5"
  }
 },
 "nbformat": 4,
 "nbformat_minor": 5
}
