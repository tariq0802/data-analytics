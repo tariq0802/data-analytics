{
 "cells": [
  {
   "cell_type": "markdown",
   "id": "b271b05c",
   "metadata": {},
   "source": [
    "# Human Resource Analytics\n",
    "The primary goal here is to work towards the betterment of employees of a MNC and to make an employee friendly environment. Recently the organisation has started collecting data from employees about their satisfaction towards the company along with internal review of the employee performance. They are interested in the factor/s that affect the satisfaction of employees along with their increased productivity.\n",
    "\n",
    "## 1. Problem Statement:\n",
    "* Objective: To explore the HR data and provide relevant insights. By transforming these insights into practical strategies, the organisation can make significant strides in improving the working environment and productivity of employees.\n",
    "* Problem statement: To reiterate, the organisation aims to optimise the environment and productivity of employees. To accomplish this goal, you need to understand extremes, patterns and associations with applications of probability and distributions.\n",
    "\n",
    "## 2. Formalization of the Problem\n",
    "In order to achieve this goal, we need to understand what success looks like in a clear and measurable way. Let's break down the main goals for the organisation entity using the questions provided.\n",
    "* Understand the distributions and patterns within the HR data.\n",
    "* Analyse the extremes within the data.\n",
    "* Answering key questions related to probability and distributions of the data.\n",
    "\n",
    "In our analysis, we'll look for insights into how these factors affect the organisation's success, as measured by identifying the patterns that could impact satisfaction and productivity of employees.\n",
    "\n",
    "## 3. Data collection and processing\n",
    "Link of the data: https://docs.google.com/spreadsheets/d/1kVgE55tJhOQh40eTv9LA2XLtqi5jueDmizhqbIunMDA/edit?usp=sharing\n",
    "We downloaded the data in project folder with csv format and renamed in hr-data. Now make the dataframe."
   ]
  },
  {
   "cell_type": "markdown",
   "id": "93c8423b",
   "metadata": {},
   "source": [
    "### Import necessary libraries"
   ]
  },
  {
   "cell_type": "code",
   "execution_count": 105,
   "id": "78f99d95",
   "metadata": {},
   "outputs": [],
   "source": [
    "import pandas as pd\n",
    "import numpy as np\n",
    "import matplotlib.pyplot as plt\n",
    "import seaborn as sns"
   ]
  },
  {
   "cell_type": "markdown",
   "id": "c3655326",
   "metadata": {},
   "source": [
    "### Make dataframe and see the sample data"
   ]
  },
  {
   "cell_type": "code",
   "execution_count": 106,
   "id": "1bdbbf37",
   "metadata": {},
   "outputs": [
    {
     "data": {
      "text/html": [
       "<div>\n",
       "<style scoped>\n",
       "    .dataframe tbody tr th:only-of-type {\n",
       "        vertical-align: middle;\n",
       "    }\n",
       "\n",
       "    .dataframe tbody tr th {\n",
       "        vertical-align: top;\n",
       "    }\n",
       "\n",
       "    .dataframe thead th {\n",
       "        text-align: right;\n",
       "    }\n",
       "</style>\n",
       "<table border=\"1\" class=\"dataframe\">\n",
       "  <thead>\n",
       "    <tr style=\"text-align: right;\">\n",
       "      <th></th>\n",
       "      <th>EmployeeId</th>\n",
       "      <th>Hrs</th>\n",
       "      <th>Rating</th>\n",
       "      <th>EmployeeSatisfaction</th>\n",
       "    </tr>\n",
       "  </thead>\n",
       "  <tbody>\n",
       "    <tr>\n",
       "      <th>0</th>\n",
       "      <td>E01</td>\n",
       "      <td>12.118051</td>\n",
       "      <td>Excellent</td>\n",
       "      <td>6</td>\n",
       "    </tr>\n",
       "    <tr>\n",
       "      <th>1</th>\n",
       "      <td>E02</td>\n",
       "      <td>13.298281</td>\n",
       "      <td>Excellent</td>\n",
       "      <td>8</td>\n",
       "    </tr>\n",
       "    <tr>\n",
       "      <th>2</th>\n",
       "      <td>E03</td>\n",
       "      <td>13.276334</td>\n",
       "      <td>Excellent</td>\n",
       "      <td>7</td>\n",
       "    </tr>\n",
       "    <tr>\n",
       "      <th>3</th>\n",
       "      <td>E04</td>\n",
       "      <td>10.798173</td>\n",
       "      <td>Excellent</td>\n",
       "      <td>9</td>\n",
       "    </tr>\n",
       "    <tr>\n",
       "      <th>4</th>\n",
       "      <td>E05</td>\n",
       "      <td>11.579172</td>\n",
       "      <td>Excellent</td>\n",
       "      <td>8</td>\n",
       "    </tr>\n",
       "  </tbody>\n",
       "</table>\n",
       "</div>"
      ],
      "text/plain": [
       "  EmployeeId        Hrs     Rating  EmployeeSatisfaction\n",
       "0        E01  12.118051  Excellent                     6\n",
       "1        E02  13.298281  Excellent                     8\n",
       "2        E03  13.276334  Excellent                     7\n",
       "3        E04  10.798173  Excellent                     9\n",
       "4        E05  11.579172  Excellent                     8"
      ]
     },
     "execution_count": 106,
     "metadata": {},
     "output_type": "execute_result"
    }
   ],
   "source": [
    "data = pd.read_csv('hr-data.csv')\n",
    "data.head()"
   ]
  },
  {
   "cell_type": "markdown",
   "id": "440ef7a0",
   "metadata": {},
   "source": [
    "#### Let’s take a look into the Columns:\n",
    "\n",
    "* 1. EmployeeId: Employee Id (this is system generated while collecting sample)\n",
    "* 2. Hrs: Average number of hours an employee works per day in an organisation.\n",
    "* 3. Rating: Rating provided by organisation to employees based on different factors, out of which Number of hours is one. There are 4 separate categories:\n",
    "    * a. Outstanding - Best rating\n",
    "    * b. Excellent - Second best rating\n",
    "    * c. Satisfactory - Third best rating\n",
    "    * d. Unsatisfactory - Least rating\n",
    "\n",
    "* 4. EmployeeSatisfaction: The satisfaction score given by employees towards the organisation. This is a score out of 10. \n",
    "\n"
   ]
  },
  {
   "cell_type": "markdown",
   "id": "b9b10123",
   "metadata": {},
   "source": [
    "### Q1. How many observations are there in the dataset?"
   ]
  },
  {
   "cell_type": "code",
   "execution_count": 107,
   "id": "338db38f",
   "metadata": {},
   "outputs": [
    {
     "name": "stdout",
     "output_type": "stream",
     "text": [
      "There are 500 observations in the dataset.\n"
     ]
    }
   ],
   "source": [
    "rows, cols = data.shape\n",
    "print(f'There are {rows} observations in the dataset.')"
   ]
  },
  {
   "cell_type": "markdown",
   "id": "3457f7b1",
   "metadata": {},
   "source": [
    "### Q2. How many variables have missing values?"
   ]
  },
  {
   "cell_type": "code",
   "execution_count": 108,
   "id": "e2fb8d18",
   "metadata": {},
   "outputs": [
    {
     "name": "stdout",
     "output_type": "stream",
     "text": [
      "There are 1 variable that have missing values.\n",
      "Name of the variable is 'Hrs'\n"
     ]
    }
   ],
   "source": [
    "missing_cols = []\n",
    "\n",
    "for col in data:\n",
    "    if data[col].isnull().sum() > 0:\n",
    "        missing_cols.append(col)\n",
    "        \n",
    "print(f\"There are {len(missing_cols)} variable that have missing values.\\n\\\n",
    "Name of the variable is '{missing_cols[0]}'\")"
   ]
  },
  {
   "cell_type": "markdown",
   "id": "d627daee",
   "metadata": {},
   "source": [
    "### Q3. How many missing values are present within the Hrs variable?"
   ]
  },
  {
   "cell_type": "code",
   "execution_count": 109,
   "id": "1cd17fc6",
   "metadata": {},
   "outputs": [
    {
     "name": "stdout",
     "output_type": "stream",
     "text": [
      "Total missing values in Hrs variable is: 8\n"
     ]
    }
   ],
   "source": [
    "missing_hrs = data['Hrs'].isnull().sum()\n",
    "print(f'Total missing values in Hrs variable is: {missing_hrs}')"
   ]
  },
  {
   "cell_type": "markdown",
   "id": "916eac80",
   "metadata": {},
   "source": [
    "### Q4. What is the average value for the Hrs variable? Round it off to 2 decimal places."
   ]
  },
  {
   "cell_type": "code",
   "execution_count": 110,
   "id": "6192b9cc",
   "metadata": {},
   "outputs": [
    {
     "name": "stdout",
     "output_type": "stream",
     "text": [
      "Average value of Hrs variable is: 11.31\n"
     ]
    }
   ],
   "source": [
    "avg_hrs = round(data.Hrs.mean(), 2)\n",
    "print('Average value of Hrs variable is:', avg_hrs)"
   ]
  },
  {
   "cell_type": "markdown",
   "id": "7b45cc99",
   "metadata": {},
   "source": [
    "### Q5. Is there any outliers in Hrs variable?"
   ]
  },
  {
   "cell_type": "code",
   "execution_count": 111,
   "id": "d703c99d",
   "metadata": {},
   "outputs": [
    {
     "name": "stdout",
     "output_type": "stream",
     "text": [
      "Lower and upper bound is: 5.352980274375001 and 16.976678419375\n",
      "There are outliers in Hrs variable\n",
      "[120.398464, 1.377450075, 0.091720323]\n"
     ]
    }
   ],
   "source": [
    "# Detect outliers with IQR method\n",
    "q1 = data.Hrs.quantile(0.25)\n",
    "q3 = data.Hrs.quantile(0.75)\n",
    "iqr = q3 - q1\n",
    "\n",
    "upper = q3 + 1.5*iqr\n",
    "lower = q1 - 1.5*iqr\n",
    "print(f'Lower and upper bound is: {lower} and {upper}')\n",
    "outliers = []\n",
    "\n",
    "for hr in data.Hrs:\n",
    "    if (hr < lower) | (hr > upper):\n",
    "        outliers.append(hr)\n",
    "        \n",
    "if len(outliers) > 0:\n",
    "    print('There are outliers in Hrs variable')\n",
    "else: \n",
    "    print('There are no outliers in Hrs variable')\n",
    "    \n",
    "print(outliers)"
   ]
  },
  {
   "cell_type": "markdown",
   "id": "87900d64",
   "metadata": {},
   "source": [
    "### Q6. Choose the correct variable type for EmployeeSatisfaction."
   ]
  },
  {
   "cell_type": "code",
   "execution_count": 112,
   "id": "4143b468",
   "metadata": {},
   "outputs": [
    {
     "name": "stdout",
     "output_type": "stream",
     "text": [
      "EmployeeSatisfation variable is Discrete Quantitative Data Type.\n",
      "\n",
      "Reason: Discrete data consists of numerical values that are distinct and separate,and in this case, the satisfaction rating can only take on specific, whole number valueswithin the range of 0 to 10. Each value represents a separate category or level of satisfaction,making it discrete rather than continuous.\n"
     ]
    }
   ],
   "source": [
    "print('EmployeeSatisfation variable is Discrete Quantitative Data Type.\\n\\n\\\n",
    "Reason: Discrete data consists of numerical values that are distinct and separate,\\\n",
    "and in this case, the satisfaction rating can only take on specific, whole number values\\\n",
    "within the range of 0 to 10. Each value represents a separate category or level of satisfaction,\\\n",
    "making it discrete rather than continuous.')"
   ]
  },
  {
   "cell_type": "markdown",
   "id": "0d6a821e",
   "metadata": {},
   "source": [
    "### Q7. What is the cardinality of the Rating variable in the dataset?"
   ]
  },
  {
   "cell_type": "code",
   "execution_count": 113,
   "id": "a75c7c5a",
   "metadata": {},
   "outputs": [
    {
     "name": "stdout",
     "output_type": "stream",
     "text": [
      "The cardinality of the Rating variable is: 6\n"
     ]
    }
   ],
   "source": [
    "rating_cardinality = len(data.Rating.value_counts().index)\n",
    "print(f'The cardinality of the Rating variable is: {rating_cardinality}')"
   ]
  },
  {
   "cell_type": "markdown",
   "id": "243d06eb",
   "metadata": {},
   "source": [
    "### Q8. Choose the correct variable type for hours Ratings.\n"
   ]
  },
  {
   "cell_type": "code",
   "execution_count": 114,
   "id": "fbb8179b",
   "metadata": {},
   "outputs": [
    {
     "name": "stdout",
     "output_type": "stream",
     "text": [
      "Ratings is Ordinal Categorical Data\n",
      "\n",
      "Reason: Ordinal categorical variables represent categories with a natural order or ranking, and \"Excellent\" is likely one such category within a rating scale that may include other categories like \"Good,\" \"Fair,\" etc. These categories have an inherent order, suggesting that \"Excellent\" is higher than other possible ratings.\n"
     ]
    }
   ],
   "source": [
    "print('Ratings is Ordinal Categorical Data\\n\\n\\\n",
    "Reason: Ordinal categorical variables represent categories with a natural order \\\n",
    "or ranking, and \"Excellent\" is likely one such category within a rating scale that \\\n",
    "may include other categories like \"Good,\" \"Fair,\" etc. These categories have an inherent order, \\\n",
    "suggesting that \"Excellent\" is higher than other possible ratings.')"
   ]
  },
  {
   "cell_type": "markdown",
   "id": "87e9a3ed",
   "metadata": {},
   "source": [
    "## Data Cleaning\n",
    "\n",
    "Cleaning our data in these ways will make sure that our analysis is based on accurate, consistent, and reliable information. This helps us get the best results and make the right decisions. Remember, having clean data is essential for a successful data analysis project!\n",
    "\n",
    "Here are some data cleaning tasks for the given dataset. Please perform the following:\n",
    "\n",
    "### Standardise the Rating column: Make the column consistent so that it has cardinality of 4. \n",
    "[Hint: Use Unsatisfactory in place of Un satisfactory and Satisfactory in place of satisfactory]"
   ]
  },
  {
   "cell_type": "code",
   "execution_count": 115,
   "id": "17885da6",
   "metadata": {},
   "outputs": [
    {
     "name": "stdout",
     "output_type": "stream",
     "text": [
      "Cardinality of Rating column before perform Standardise is: 6\n",
      "Unique values of rating before perform Standardise:\n",
      "['Excellent' 'Outstanding' 'Unsatisfactory' 'satisfactory' 'Satisfactory'\n",
      " 'Un satisfactory']\n",
      "\n",
      "Cardinality of Rating column after perform Standardise is: 4\n",
      "Unique values of rating after perform Standardise:\n",
      "['Excellent' 'Outstanding' 'Unsatisfactory' 'Satisfactory']\n"
     ]
    }
   ],
   "source": [
    "unique_before = data.Rating.unique()\n",
    "cardinality_before = data.Rating.nunique()\n",
    "\n",
    "# Print result before perform Standardise\n",
    "print('Cardinality of Rating column before perform Standardise is:', cardinality_before)\n",
    "print(f'Unique values of rating before perform Standardise:\\n{unique_before}')\n",
    "\n",
    "# Standardise Rating column\n",
    "data['Rating'] = data.Rating.replace({'Un satisfactory': 'Unsatisfactory', 'satisfactory': 'Satisfactory'})\n",
    "\n",
    "unique_after = data.Rating.unique()\n",
    "cardinality_after = data.Rating.nunique()\n",
    "\n",
    "# Print result before perform Standardise\n",
    "print('\\nCardinality of Rating column after perform Standardise is:', cardinality_after)\n",
    "print(f'Unique values of rating after perform Standardise:\\n{unique_after}')"
   ]
  },
  {
   "cell_type": "markdown",
   "id": "85186c6a",
   "metadata": {},
   "source": [
    "### Remove any empty or incomplete rows: \n",
    "Check if there are any rows with missing data. Substitute these values with the mean of numerical or mode for non-numerical data. [Challenge yourself: Try to fill mean/mode value corresponding to individual individual ratings]"
   ]
  },
  {
   "cell_type": "code",
   "execution_count": 116,
   "id": "ad65957d",
   "metadata": {},
   "outputs": [
    {
     "name": "stdout",
     "output_type": "stream",
     "text": [
      "Data information before perform:\n",
      "\n",
      "<class 'pandas.core.frame.DataFrame'>\n",
      "RangeIndex: 500 entries, 0 to 499\n",
      "Data columns (total 4 columns):\n",
      " #   Column                Non-Null Count  Dtype  \n",
      "---  ------                --------------  -----  \n",
      " 0   EmployeeId            500 non-null    object \n",
      " 1   Hrs                   492 non-null    float64\n",
      " 2   Rating                500 non-null    object \n",
      " 3   EmployeeSatisfaction  500 non-null    int64  \n",
      "dtypes: float64(1), int64(1), object(2)\n",
      "memory usage: 15.8+ KB\n",
      "None\n",
      "\n",
      "Total null values in Hrs column before perform: 8\n",
      "\n",
      "-----------------------------------------\n",
      "\n",
      "Data information after perform:\n",
      "\n",
      "<class 'pandas.core.frame.DataFrame'>\n",
      "RangeIndex: 500 entries, 0 to 499\n",
      "Data columns (total 4 columns):\n",
      " #   Column                Non-Null Count  Dtype  \n",
      "---  ------                --------------  -----  \n",
      " 0   EmployeeId            500 non-null    object \n",
      " 1   Hrs                   500 non-null    float64\n",
      " 2   Rating                500 non-null    object \n",
      " 3   EmployeeSatisfaction  500 non-null    int64  \n",
      "dtypes: float64(1), int64(1), object(2)\n",
      "memory usage: 15.8+ KB\n",
      "None\n",
      "\n",
      "Total null values in Hrs column before perform: 0\n"
     ]
    }
   ],
   "source": [
    "# Print data info before perform\n",
    "print(f'Data information before perform:\\n')\n",
    "print(data.info())\n",
    "\n",
    "# Total outliers in Hrs column\n",
    "null_before = data.Hrs.isnull().sum()\n",
    "\n",
    "print('\\nTotal null values in Hrs column before perform:', null_before)\n",
    "print('\\n-----------------------------------------\\n')\n",
    "\n",
    "# Fill null with mean of Hrs\n",
    "data['Hrs'] = data.Hrs.fillna(data.Hrs.mean())\n",
    "\n",
    "# Print data info after perform\n",
    "print(f'Data information after perform:\\n')\n",
    "print(data.info())\n",
    "\n",
    "# Total outliers in Hrs column\n",
    "null_after = data.Hrs.isnull().sum()\n",
    "\n",
    "print('\\nTotal null values in Hrs column before perform:', null_after)"
   ]
  },
  {
   "cell_type": "markdown",
   "id": "f580f6ee",
   "metadata": {},
   "source": [
    "## 4. Data Analysis\n",
    "### Part 1) Understanding the distributions and patterns within the HR data.\n",
    "One of the primary objectives here is to understand the distributions and patterns within the data. We want to understand why an employee has a satisfactory or unsatisfactory performance as compared to excellent/outstanding performance. This helps in understanding the employee performance within the company and the factors that contribute towards it.\n",
    "\n",
    "### Q1. Calculate the mode of the employee performance in the rating column. Choose the correct option."
   ]
  },
  {
   "cell_type": "code",
   "execution_count": 122,
   "id": "8342dcb3",
   "metadata": {},
   "outputs": [
    {
     "name": "stdout",
     "output_type": "stream",
     "text": [
      "Mode value of Rating is: Excellent\n"
     ]
    }
   ],
   "source": [
    "rating_mode = data.Rating.mode()[0]\n",
    "print('Mode value of Rating is:', rating_mode)"
   ]
  },
  {
   "cell_type": "markdown",
   "id": "4a09b159",
   "metadata": {},
   "source": [
    "### Q2. Calculate the range of hours the employee is working for in case of unsatisfactory rating.\n",
    "\n",
    "\n"
   ]
  },
  {
   "cell_type": "code",
   "execution_count": 130,
   "id": "6588227b",
   "metadata": {},
   "outputs": [
    {
     "name": "stdout",
     "output_type": "stream",
     "text": [
      "Range of Hours the employee working for:\n",
      "min: 0.091720323\n",
      "max: 8.489765491\n"
     ]
    }
   ],
   "source": [
    "unsatisfactory_data = data[data.Rating == 'Unsatisfactory']\n",
    "hrs_min = unsatisfactory_data.Hrs.min()\n",
    "hrs_max = unsatisfactory_data.Hrs.max()\n",
    "print(f'Range of Hours the employee working for:\\n\\\n",
    "min: {hrs_min}\\nmax: {hrs_max}')"
   ]
  },
  {
   "cell_type": "markdown",
   "id": "f96d342b",
   "metadata": {},
   "source": [
    "These stats help us in understanding the different rating factors closely.  We are able to understand that satisfactory and unsatisfactory performances have quite a say in their ratings. Lower ratings are given to employees who are working for lesser hours.\n",
    "\n",
    "### Q3. Check out the distribution of the Hrs variable using histogram and boxplot. Where do we have the outliers?"
   ]
  },
  {
   "cell_type": "code",
   "execution_count": 146,
   "id": "3500e8bf",
   "metadata": {},
   "outputs": [
    {
     "data": {
      "image/png": "[encoded data removed]",
      "text/plain": [
       "<Figure size 1500x500 with 2 Axes>"
      ]
     },
     "metadata": {},
     "output_type": "display_data"
    },
    {
     "name": "stdout",
     "output_type": "stream",
     "text": [
      "Outliers is in both higher and lower sides\n"
     ]
    }
   ],
   "source": [
    "# Create 2 subplots\n",
    "fig, axs = plt.subplots(1, 2, figsize=(15,5))\n",
    "\n",
    "# Create histogram for Hrs\n",
    "sns.set_style('darkgrid')\n",
    "sns.histplot(data=data, x='Hrs', kde=True, ax=axs[0])\n",
    "axs[0].set_title('Histogram for Hrs', fontsize=16, fontweight='bold')\n",
    "\n",
    "# Barplot for Hrs\n",
    "sns.boxplot(data=data, x='Hrs', ax=axs[1])\n",
    "axs[1].set_title('Box Plot for Hrs', fontsize=16, fontweight='bold')\n",
    "plt.tight_layout()\n",
    "plt.show()\n",
    "\n",
    "print('Outliers is in both higher and lower sides')"
   ]
  },
  {
   "cell_type": "markdown",
   "id": "ef2ad956",
   "metadata": {},
   "source": [
    "If you closely take a look in these distribution charts, you can clearly see that the majority of the Hours are centred around 8 to 14 which clearly indicates the outliers towards the higher and lower side..\n",
    "\n",
    "A histogram will give you a peek into how your distribution looks like. You can define the number of peaks which means it can be a unimodal, bimodal or multimodal distribution depending on the peaks involved.\n",
    "\n",
    "A box plot on the other hand helps you understand min, max and interquartile range where most of the data is centred around.\n",
    "\n",
    "With these 2 charts, you can easily understand the extremes involved in the data. Do understand that extremes/outliers require some thoughtful investigation before we actually take the decision of removing/retaining them.\n",
    "### Q4. Choose the correct histogram and boxplot for the Hrs variable."
   ]
  },
  {
   "cell_type": "code",
   "execution_count": 147,
   "id": "0575c724",
   "metadata": {},
   "outputs": [
    {
     "name": "stdout",
     "output_type": "stream",
     "text": [
      "As the above picture\n"
     ]
    }
   ],
   "source": [
    "print('As the above picture')"
   ]
  },
  {
   "cell_type": "markdown",
   "id": "3a5d6a7a",
   "metadata": {},
   "source": [
    "### Q5. Choose the correct frequency plot for Rating."
   ]
  },
  {
   "cell_type": "code",
   "execution_count": 153,
   "id": "45c3d656",
   "metadata": {},
   "outputs": [
    {
     "data": {
      "image/png": "[encoded data removed]",
      "text/plain": [
       "<Figure size 640x480 with 1 Axes>"
      ]
     },
     "metadata": {},
     "output_type": "display_data"
    }
   ],
   "source": [
    "sns.countplot(data=data, x=data.Rating, hue=data.Rating, palette='cubehelix')\n",
    "plt.title('Frequency of Rating', fontsize=16, fontweight='bold')\n",
    "\n",
    "plt.tight_layout()\n",
    "plt.show()"
   ]
  },
  {
   "cell_type": "markdown",
   "id": "61b82ca3",
   "metadata": {},
   "source": [
    "We can clearly see that the highest frequency is for Excellent rating followed by outstanding and unsatisfactory. Also, we can see that the majority of employees are giving 6 or 7 satisfaction scores which means that the majority of employees aren’t that happy due to lower work life balance. Therefore, our major focus should be towards increasing the work life balance of the employees rather than rewarding the higher number of work hours from the employees.\n",
    "\n",
    "### Q6. Choose the correct frequencies for Employee Satisfaction Score.\n",
    "\n",
    "\n"
   ]
  },
  {
   "cell_type": "code",
   "execution_count": 165,
   "id": "5dba9ada",
   "metadata": {},
   "outputs": [
    {
     "data": {
      "image/png": "[encoded data removed]",
      "text/plain": [
       "<Figure size 640x480 with 1 Axes>"
      ]
     },
     "metadata": {},
     "output_type": "display_data"
    },
    {
     "data": {
      "text/plain": [
       "EmployeeSatisfaction\n",
       "7    161\n",
       "6    142\n",
       "8    132\n",
       "9     65\n",
       "Name: count, dtype: int64"
      ]
     },
     "execution_count": 165,
     "metadata": {},
     "output_type": "execute_result"
    }
   ],
   "source": [
    "frequency = data.EmployeeSatisfaction.value_counts()\n",
    "frequency\n",
    "\n",
    "# Plot\n",
    "sns.countplot(data=data, x=data.EmployeeSatisfaction, \n",
    "              hue=data.EmployeeSatisfaction, \n",
    "              palette='cubehelix', legend=False)\n",
    "plt.title('Frequency of Employee Satisfaction', fontsize=16, fontweight='bold')\n",
    "plt.tight_layout()\n",
    "plt.show()\n",
    "\n",
    "frequency = data.EmployeeSatisfaction.value_counts()\n",
    "frequency"
   ]
  },
  {
   "cell_type": "markdown",
   "id": "55d7e0d4",
   "metadata": {},
   "source": [
    "### Q7. Which rating has the highest number of average working hours?"
   ]
  },
  {
   "cell_type": "code",
   "execution_count": 168,
   "id": "16b6c9cd",
   "metadata": {},
   "outputs": [
    {
     "data": {
      "text/html": [
       "<div>\n",
       "<style scoped>\n",
       "    .dataframe tbody tr th:only-of-type {\n",
       "        vertical-align: middle;\n",
       "    }\n",
       "\n",
       "    .dataframe tbody tr th {\n",
       "        vertical-align: top;\n",
       "    }\n",
       "\n",
       "    .dataframe thead th {\n",
       "        text-align: right;\n",
       "    }\n",
       "</style>\n",
       "<table border=\"1\" class=\"dataframe\">\n",
       "  <thead>\n",
       "    <tr style=\"text-align: right;\">\n",
       "      <th></th>\n",
       "      <th>EmployeeId</th>\n",
       "      <th>Hrs</th>\n",
       "      <th>Rating</th>\n",
       "      <th>EmployeeSatisfaction</th>\n",
       "    </tr>\n",
       "  </thead>\n",
       "  <tbody>\n",
       "    <tr>\n",
       "      <th>0</th>\n",
       "      <td>E01</td>\n",
       "      <td>12.118051</td>\n",
       "      <td>Excellent</td>\n",
       "      <td>6</td>\n",
       "    </tr>\n",
       "    <tr>\n",
       "      <th>1</th>\n",
       "      <td>E02</td>\n",
       "      <td>13.298281</td>\n",
       "      <td>Excellent</td>\n",
       "      <td>8</td>\n",
       "    </tr>\n",
       "    <tr>\n",
       "      <th>2</th>\n",
       "      <td>E03</td>\n",
       "      <td>13.276334</td>\n",
       "      <td>Excellent</td>\n",
       "      <td>7</td>\n",
       "    </tr>\n",
       "    <tr>\n",
       "      <th>3</th>\n",
       "      <td>E04</td>\n",
       "      <td>10.798173</td>\n",
       "      <td>Excellent</td>\n",
       "      <td>9</td>\n",
       "    </tr>\n",
       "    <tr>\n",
       "      <th>4</th>\n",
       "      <td>E05</td>\n",
       "      <td>11.579172</td>\n",
       "      <td>Excellent</td>\n",
       "      <td>8</td>\n",
       "    </tr>\n",
       "    <tr>\n",
       "      <th>5</th>\n",
       "      <td>E06</td>\n",
       "      <td>13.835646</td>\n",
       "      <td>Outstanding</td>\n",
       "      <td>7</td>\n",
       "    </tr>\n",
       "    <tr>\n",
       "      <th>6</th>\n",
       "      <td>E07</td>\n",
       "      <td>13.673691</td>\n",
       "      <td>Outstanding</td>\n",
       "      <td>7</td>\n",
       "    </tr>\n",
       "    <tr>\n",
       "      <th>7</th>\n",
       "      <td>E08</td>\n",
       "      <td>8.031467</td>\n",
       "      <td>Unsatisfactory</td>\n",
       "      <td>6</td>\n",
       "    </tr>\n",
       "    <tr>\n",
       "      <th>8</th>\n",
       "      <td>E09</td>\n",
       "      <td>9.304839</td>\n",
       "      <td>Excellent</td>\n",
       "      <td>7</td>\n",
       "    </tr>\n",
       "    <tr>\n",
       "      <th>9</th>\n",
       "      <td>E10</td>\n",
       "      <td>13.429567</td>\n",
       "      <td>Excellent</td>\n",
       "      <td>6</td>\n",
       "    </tr>\n",
       "  </tbody>\n",
       "</table>\n",
       "</div>"
      ],
      "text/plain": [
       "  EmployeeId        Hrs          Rating  EmployeeSatisfaction\n",
       "0        E01  12.118051       Excellent                     6\n",
       "1        E02  13.298281       Excellent                     8\n",
       "2        E03  13.276334       Excellent                     7\n",
       "3        E04  10.798173       Excellent                     9\n",
       "4        E05  11.579172       Excellent                     8\n",
       "5        E06  13.835646     Outstanding                     7\n",
       "6        E07  13.673691     Outstanding                     7\n",
       "7        E08   8.031467  Unsatisfactory                     6\n",
       "8        E09   9.304839       Excellent                     7\n",
       "9        E10  13.429567       Excellent                     6"
      ]
     },
     "execution_count": 168,
     "metadata": {},
     "output_type": "execute_result"
    }
   ],
   "source": [
    "data.\n",
    "data.head(10)"
   ]
  },
  {
   "cell_type": "code",
   "execution_count": null,
   "id": "f45516ef",
   "metadata": {},
   "outputs": [],
   "source": []
  }
 ],
 "metadata": {
  "kernelspec": {
   "display_name": "Python 3 (ipykernel)",
   "language": "python",
   "name": "python3"
  },
  "language_info": {
   "codemirror_mode": {
    "name": "ipython",
    "version": 3
   },
   "file_extension": ".py",
   "mimetype": "text/x-python",
   "name": "python",
   "nbconvert_exporter": "python",
   "pygments_lexer": "ipython3",
   "version": "3.11.5"
  }
 },
 "nbformat": 4,
 "nbformat_minor": 5
}
