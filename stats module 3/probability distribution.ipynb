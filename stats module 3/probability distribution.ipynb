{
 "cells": [
  {
   "cell_type": "code",
   "execution_count": 10,
   "id": "505a401c",
   "metadata": {},
   "outputs": [],
   "source": [
    "from scipy.stats import norm\n",
    "import pandas as pd\n",
    "import numpy as np\n",
    "\n",
    "stock_prices = [\n",
    "    95.73210516, 78.93846739, 120.6530331, 99.62437869, 99.73454123,\n",
    "    106.3287416, 101.4171746, 91.55916157, 108.0527343, 115.8329864,\n",
    "    82.7563291, 97.6428764, 110.4275362, 89.2673412, 103.7289456,\n",
    "    94.5210393, 112.9362458, 88.2475319, 105.3429876, 118.6352765,\n",
    "    84.9238746, 92.5647385, 102.7569347, 96.4287516, 114.6273849,\n",
    "    87.5472183, 98.4267395, 122.8392754, 81.7329543, 93.6543278\n",
    "]\n",
    "\n",
    "mean = np.mean(stock_prices)\n",
    "std_dev = np.std(stock_prices)\n",
    "days = len(stock_prices)"
   ]
  },
  {
   "cell_type": "code",
   "execution_count": 9,
   "id": "f6597dbb",
   "metadata": {},
   "outputs": [
    {
     "name": "stdout",
     "output_type": "stream",
     "text": [
      "Percentage of days of stock price under 90 is: 80.02449113657246\n"
     ]
    }
   ],
   "source": [
    "# Calculate percentage of days where stock price less than 90\n",
    "stock_price = 90\n",
    "z_score = (stock_price - mean)/std_dev\n",
    "probe = norm.cdf(z_score)\n",
    "percent = (1 - probe)*100\n",
    "\n",
    "print('Percentage of days of stock price under 90 is:', percent)"
   ]
  },
  {
   "cell_type": "code",
   "execution_count": 16,
   "id": "723f0b9d",
   "metadata": {},
   "outputs": [
    {
     "data": {
      "text/plain": [
       "23.333333333333332"
      ]
     },
     "execution_count": 16,
     "metadata": {},
     "output_type": "execute_result"
    }
   ],
   "source": [
    "df = pd.DataFrame(stock_prices, columns=['Stock Price'])\n",
    "len(df[df['Stock Price'] <= 90])/30*100"
   ]
  },
  {
   "cell_type": "code",
   "execution_count": 26,
   "id": "ea06bfaa",
   "metadata": {},
   "outputs": [
    {
     "data": {
      "text/plain": [
       "0.01"
      ]
     },
     "execution_count": 26,
     "metadata": {},
     "output_type": "execute_result"
    }
   ],
   "source": [
    "bill = 1200\n",
    "avg_bill = 850\n",
    "dev = 150\n",
    "\n",
    "z_score = (bill - avg_bill)/dev\n",
    "prob = round(1 - norm.cdf(z_score), 2)\n",
    "prob"
   ]
  },
  {
   "cell_type": "code",
   "execution_count": 28,
   "id": "d05b8817",
   "metadata": {},
   "outputs": [
    {
     "data": {
      "text/plain": [
       "0.74"
      ]
     },
     "execution_count": 28,
     "metadata": {},
     "output_type": "execute_result"
    }
   ],
   "source": [
    "upper = 1200\n",
    "lower = 750\n",
    "avg_bill = 850\n",
    "dev = 150\n",
    "\n",
    "upper_z = (upper - avg_bill)/dev\n",
    "lower_z = (lower - avg_bill)/dev\n",
    "\n",
    "l_prob = norm.cdf(lower_z)\n",
    "u_prob = norm.cdf(upper_z)\n",
    "\n",
    "prob = round(u_prob - l_prob, 2)\n",
    "prob"
   ]
  },
  {
   "cell_type": "code",
   "execution_count": null,
   "id": "d0437344",
   "metadata": {},
   "outputs": [],
   "source": []
  }
 ],
 "metadata": {
  "kernelspec": {
   "display_name": "Python 3 (ipykernel)",
   "language": "python",
   "name": "python3"
  },
  "language_info": {
   "codemirror_mode": {
    "name": "ipython",
    "version": 3
   },
   "file_extension": ".py",
   "mimetype": "text/x-python",
   "name": "python",
   "nbconvert_exporter": "python",
   "pygments_lexer": "ipython3",
   "version": "3.11.5"
  }
 },
 "nbformat": 4,
 "nbformat_minor": 5
}
