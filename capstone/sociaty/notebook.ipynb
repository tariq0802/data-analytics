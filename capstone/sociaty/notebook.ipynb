{
 "cells": [
  {
   "cell_type": "markdown",
   "id": "52632991",
   "metadata": {},
   "source": [
    "# Sociaty Project\n",
    "## Task 1: Data Loading and Overview\n",
    "### Importing Libraries"
   ]
  },
  {
   "cell_type": "code",
   "execution_count": 1,
   "id": "44a5e92d",
   "metadata": {},
   "outputs": [],
   "source": [
    "import warnings\n",
    "warnings.filterwarnings(\"ignore\")\n",
    "\n",
    "import pandas as pd\n",
    "import numpy as np\n",
    "from matplotlib import pyplot as plt\n",
    "import seaborn as sns"
   ]
  },
  {
   "cell_type": "markdown",
   "id": "038066c5",
   "metadata": {},
   "source": [
    "### 1. Data Loading and Overview\n",
    "We begin by loading the dataset, named \"Final_Data.csv,\" into a Pandas DataFrame. We display the first few rows of the DataFrame to provide an initial overview of the data's structure and content. "
   ]
  },
  {
   "cell_type": "code",
   "execution_count": 2,
   "id": "5e860474",
   "metadata": {},
   "outputs": [
    {
     "data": {
      "text/html": [
       "<div>\n",
       "<style scoped>\n",
       "    .dataframe tbody tr th:only-of-type {\n",
       "        vertical-align: middle;\n",
       "    }\n",
       "\n",
       "    .dataframe tbody tr th {\n",
       "        vertical-align: top;\n",
       "    }\n",
       "\n",
       "    .dataframe thead th {\n",
       "        text-align: right;\n",
       "    }\n",
       "</style>\n",
       "<table border=\"1\" class=\"dataframe\">\n",
       "  <thead>\n",
       "    <tr style=\"text-align: right;\">\n",
       "      <th></th>\n",
       "      <th>Unnamed: 0</th>\n",
       "      <th>Flat no</th>\n",
       "      <th>Wing</th>\n",
       "      <th>Owner Name</th>\n",
       "      <th>Owner's Spouse Name</th>\n",
       "      <th>No of Resident</th>\n",
       "      <th>Confirmed Members</th>\n",
       "      <th>Origin of Owner</th>\n",
       "      <th>Flat Area (sq.mt)</th>\n",
       "      <th>No of Room</th>\n",
       "      <th>Tenant or owner</th>\n",
       "      <th>Maintenance Amt</th>\n",
       "      <th>Availlability of owner</th>\n",
       "      <th>Flat Vacancy</th>\n",
       "      <th>Donation</th>\n",
       "    </tr>\n",
       "  </thead>\n",
       "  <tbody>\n",
       "    <tr>\n",
       "      <th>0</th>\n",
       "      <td>0</td>\n",
       "      <td>101</td>\n",
       "      <td>A</td>\n",
       "      <td>Omkar</td>\n",
       "      <td>-</td>\n",
       "      <td>4</td>\n",
       "      <td>4</td>\n",
       "      <td>Maharashtra</td>\n",
       "      <td>500</td>\n",
       "      <td>2</td>\n",
       "      <td>Owner</td>\n",
       "      <td>6000</td>\n",
       "      <td>Yes</td>\n",
       "      <td>Owned</td>\n",
       "      <td>2500.0</td>\n",
       "    </tr>\n",
       "    <tr>\n",
       "      <th>1</th>\n",
       "      <td>1</td>\n",
       "      <td>102</td>\n",
       "      <td>A</td>\n",
       "      <td>Bhavana</td>\n",
       "      <td>-</td>\n",
       "      <td>5</td>\n",
       "      <td>6</td>\n",
       "      <td>Bangalore</td>\n",
       "      <td>500</td>\n",
       "      <td>2</td>\n",
       "      <td>Owner</td>\n",
       "      <td>6000</td>\n",
       "      <td>Yes</td>\n",
       "      <td>Owned</td>\n",
       "      <td>10000.0</td>\n",
       "    </tr>\n",
       "    <tr>\n",
       "      <th>2</th>\n",
       "      <td>2</td>\n",
       "      <td>103</td>\n",
       "      <td>A</td>\n",
       "      <td>Govind</td>\n",
       "      <td>-</td>\n",
       "      <td>5</td>\n",
       "      <td>3</td>\n",
       "      <td>Rajasthan</td>\n",
       "      <td>500</td>\n",
       "      <td>2</td>\n",
       "      <td>Owner</td>\n",
       "      <td>6000</td>\n",
       "      <td>Yes</td>\n",
       "      <td>Owned</td>\n",
       "      <td>1500.0</td>\n",
       "    </tr>\n",
       "    <tr>\n",
       "      <th>3</th>\n",
       "      <td>3</td>\n",
       "      <td>201</td>\n",
       "      <td>A</td>\n",
       "      <td>Reena</td>\n",
       "      <td>-</td>\n",
       "      <td>4</td>\n",
       "      <td>2</td>\n",
       "      <td>Madhya Pradesh</td>\n",
       "      <td>550</td>\n",
       "      <td>2</td>\n",
       "      <td>Tenant</td>\n",
       "      <td>6000</td>\n",
       "      <td>No</td>\n",
       "      <td>Owned</td>\n",
       "      <td>NaN</td>\n",
       "    </tr>\n",
       "    <tr>\n",
       "      <th>4</th>\n",
       "      <td>4</td>\n",
       "      <td>202</td>\n",
       "      <td>A</td>\n",
       "      <td>Karishma</td>\n",
       "      <td>-</td>\n",
       "      <td>7</td>\n",
       "      <td>15</td>\n",
       "      <td>Gujurat</td>\n",
       "      <td>600</td>\n",
       "      <td>3</td>\n",
       "      <td>Owner</td>\n",
       "      <td>7000</td>\n",
       "      <td>No</td>\n",
       "      <td>Owned</td>\n",
       "      <td>2500.0</td>\n",
       "    </tr>\n",
       "  </tbody>\n",
       "</table>\n",
       "</div>"
      ],
      "text/plain": [
       "   Unnamed: 0  Flat no Wing Owner Name Owner's Spouse Name No of Resident  \\\n",
       "0           0      101    A      Omkar                   -              4   \n",
       "1           1      102    A    Bhavana                   -              5   \n",
       "2           2      103    A     Govind                   -              5   \n",
       "3           3      201    A      Reena                   -              4   \n",
       "4           4      202    A   Karishma                   -              7   \n",
       "\n",
       "  Confirmed Members Origin of Owner  Flat Area (sq.mt)  No of Room  \\\n",
       "0                 4     Maharashtra                500           2   \n",
       "1                 6       Bangalore                500           2   \n",
       "2                 3       Rajasthan                500           2   \n",
       "3                 2  Madhya Pradesh                550           2   \n",
       "4                15         Gujurat                600           3   \n",
       "\n",
       "  Tenant or owner Maintenance Amt Availlability of owner Flat Vacancy  \\\n",
       "0           Owner            6000                    Yes        Owned   \n",
       "1           Owner            6000                    Yes        Owned   \n",
       "2           Owner            6000                    Yes        Owned   \n",
       "3          Tenant            6000                     No        Owned   \n",
       "4           Owner            7000                     No        Owned   \n",
       "\n",
       "   Donation  \n",
       "0    2500.0  \n",
       "1   10000.0  \n",
       "2    1500.0  \n",
       "3       NaN  \n",
       "4    2500.0  "
      ]
     },
     "execution_count": 2,
     "metadata": {},
     "output_type": "execute_result"
    }
   ],
   "source": [
    "data = pd.read_csv('Final_Data.csv')\n",
    "data.head()"
   ]
  },
  {
   "cell_type": "markdown",
   "id": "dae27830",
   "metadata": {},
   "source": [
    "### 2. Summary of the Dataset\n",
    "To ensure data integrity, we perform a thorough data quality check. "
   ]
  },
  {
   "cell_type": "code",
   "execution_count": 3,
   "id": "eb835535",
   "metadata": {},
   "outputs": [
    {
     "name": "stdout",
     "output_type": "stream",
     "text": [
      "Data types and missing values:\n",
      "\n",
      "<class 'pandas.core.frame.DataFrame'>\n",
      "RangeIndex: 60 entries, 0 to 59\n",
      "Data columns (total 15 columns):\n",
      " #   Column                  Non-Null Count  Dtype  \n",
      "---  ------                  --------------  -----  \n",
      " 0   Unnamed: 0              60 non-null     int64  \n",
      " 1   Flat no                 60 non-null     int64  \n",
      " 2   Wing                    60 non-null     object \n",
      " 3   Owner Name              60 non-null     object \n",
      " 4   Owner's Spouse Name     18 non-null     object \n",
      " 5   No of Resident          60 non-null     object \n",
      " 6   Confirmed Members       60 non-null     object \n",
      " 7   Origin of Owner         60 non-null     object \n",
      " 8   Flat Area (sq.mt)       60 non-null     int64  \n",
      " 9   No of Room              60 non-null     int64  \n",
      " 10  Tenant or owner         60 non-null     object \n",
      " 11  Maintenance Amt         32 non-null     object \n",
      " 12  Availlability of owner  60 non-null     object \n",
      " 13  Flat Vacancy            43 non-null     object \n",
      " 14  Donation                55 non-null     float64\n",
      "dtypes: float64(1), int64(4), object(10)\n",
      "memory usage: 7.2+ KB\n"
     ]
    }
   ],
   "source": [
    "print('Data types and missing values:\\n')\n",
    "data.info()"
   ]
  },
  {
   "cell_type": "markdown",
   "id": "fad856b7",
   "metadata": {},
   "source": [
    "### 3. Descriptive Satistics\n",
    "In this step, To gain insights into the dataset's numerical features, we calculate summary statistics for numeric columns."
   ]
  },
  {
   "cell_type": "code",
   "execution_count": 4,
   "id": "6ac62b42",
   "metadata": {},
   "outputs": [
    {
     "name": "stdout",
     "output_type": "stream",
     "text": [
      "Summary statistics for numeric columns:\n"
     ]
    },
    {
     "data": {
      "text/html": [
       "<div>\n",
       "<style scoped>\n",
       "    .dataframe tbody tr th:only-of-type {\n",
       "        vertical-align: middle;\n",
       "    }\n",
       "\n",
       "    .dataframe tbody tr th {\n",
       "        vertical-align: top;\n",
       "    }\n",
       "\n",
       "    .dataframe thead th {\n",
       "        text-align: right;\n",
       "    }\n",
       "</style>\n",
       "<table border=\"1\" class=\"dataframe\">\n",
       "  <thead>\n",
       "    <tr style=\"text-align: right;\">\n",
       "      <th></th>\n",
       "      <th>Unnamed: 0</th>\n",
       "      <th>Flat no</th>\n",
       "      <th>Flat Area (sq.mt)</th>\n",
       "      <th>No of Room</th>\n",
       "      <th>Donation</th>\n",
       "    </tr>\n",
       "  </thead>\n",
       "  <tbody>\n",
       "    <tr>\n",
       "      <th>count</th>\n",
       "      <td>60.000000</td>\n",
       "      <td>60.000000</td>\n",
       "      <td>60.000000</td>\n",
       "      <td>60.000000</td>\n",
       "      <td>55.000000</td>\n",
       "    </tr>\n",
       "    <tr>\n",
       "      <th>mean</th>\n",
       "      <td>29.500000</td>\n",
       "      <td>552.000000</td>\n",
       "      <td>554.166667</td>\n",
       "      <td>2.416667</td>\n",
       "      <td>4136.363636</td>\n",
       "    </tr>\n",
       "    <tr>\n",
       "      <th>std</th>\n",
       "      <td>17.464249</td>\n",
       "      <td>289.653212</td>\n",
       "      <td>43.464057</td>\n",
       "      <td>0.497167</td>\n",
       "      <td>3228.138073</td>\n",
       "    </tr>\n",
       "    <tr>\n",
       "      <th>min</th>\n",
       "      <td>0.000000</td>\n",
       "      <td>101.000000</td>\n",
       "      <td>500.000000</td>\n",
       "      <td>2.000000</td>\n",
       "      <td>1000.000000</td>\n",
       "    </tr>\n",
       "    <tr>\n",
       "      <th>25%</th>\n",
       "      <td>14.750000</td>\n",
       "      <td>302.000000</td>\n",
       "      <td>500.000000</td>\n",
       "      <td>2.000000</td>\n",
       "      <td>1500.000000</td>\n",
       "    </tr>\n",
       "    <tr>\n",
       "      <th>50%</th>\n",
       "      <td>29.500000</td>\n",
       "      <td>552.000000</td>\n",
       "      <td>550.000000</td>\n",
       "      <td>2.000000</td>\n",
       "      <td>2500.000000</td>\n",
       "    </tr>\n",
       "    <tr>\n",
       "      <th>75%</th>\n",
       "      <td>44.250000</td>\n",
       "      <td>802.000000</td>\n",
       "      <td>600.000000</td>\n",
       "      <td>3.000000</td>\n",
       "      <td>6000.000000</td>\n",
       "    </tr>\n",
       "    <tr>\n",
       "      <th>max</th>\n",
       "      <td>59.000000</td>\n",
       "      <td>1003.000000</td>\n",
       "      <td>600.000000</td>\n",
       "      <td>3.000000</td>\n",
       "      <td>10000.000000</td>\n",
       "    </tr>\n",
       "  </tbody>\n",
       "</table>\n",
       "</div>"
      ],
      "text/plain": [
       "       Unnamed: 0      Flat no  Flat Area (sq.mt)  No of Room      Donation\n",
       "count   60.000000    60.000000          60.000000   60.000000     55.000000\n",
       "mean    29.500000   552.000000         554.166667    2.416667   4136.363636\n",
       "std     17.464249   289.653212          43.464057    0.497167   3228.138073\n",
       "min      0.000000   101.000000         500.000000    2.000000   1000.000000\n",
       "25%     14.750000   302.000000         500.000000    2.000000   1500.000000\n",
       "50%     29.500000   552.000000         550.000000    2.000000   2500.000000\n",
       "75%     44.250000   802.000000         600.000000    3.000000   6000.000000\n",
       "max     59.000000  1003.000000         600.000000    3.000000  10000.000000"
      ]
     },
     "execution_count": 4,
     "metadata": {},
     "output_type": "execute_result"
    }
   ],
   "source": [
    "print(\"Summary statistics for numeric columns:\")\n",
    "data.describe()"
   ]
  },
  {
   "cell_type": "markdown",
   "id": "9177ab1d",
   "metadata": {},
   "source": [
    "### 4. Unique Value Count\n",
    "Understanding the diversity and uniqueness of categorical variables is essential for event planning and engagement strategies. Analyze the results to understand the variety of responses and preferences among residents."
   ]
  },
  {
   "cell_type": "code",
   "execution_count": 5,
   "id": "5a0925cf",
   "metadata": {},
   "outputs": [
    {
     "name": "stdout",
     "output_type": "stream",
     "text": [
      "\n",
      "Number of unique values in each column:\n"
     ]
    },
    {
     "data": {
      "text/plain": [
       "Unnamed: 0                60\n",
       "Flat no                   30\n",
       "Wing                       2\n",
       "Owner Name                51\n",
       "Owner's Spouse Name       12\n",
       "No of Resident             9\n",
       "Confirmed Members         14\n",
       "Origin of Owner           17\n",
       "Flat Area (sq.mt)          3\n",
       "No of Room                 2\n",
       "Tenant or owner            4\n",
       "Maintenance Amt            4\n",
       "Availlability of owner     3\n",
       "Flat Vacancy               3\n",
       "Donation                   6\n",
       "dtype: int64"
      ]
     },
     "execution_count": 5,
     "metadata": {},
     "output_type": "execute_result"
    }
   ],
   "source": [
    "print(\"\\nNumber of unique values in each column:\")\n",
    "data.nunique()"
   ]
  },
  {
   "cell_type": "markdown",
   "id": "dee3e41d",
   "metadata": {},
   "source": [
    "### 5. Checking Unique Values\n",
    "Identify the unique set of variables in the dataframe inorder to identify the unique values if any kind of discrepancy present in the data."
   ]
  },
  {
   "cell_type": "code",
   "execution_count": 6,
   "id": "2410ab5c",
   "metadata": {},
   "outputs": [
    {
     "name": "stdout",
     "output_type": "stream",
     "text": [
      "Check unique values in Unnamed: 0 column:\n",
      "[ 0  1  2  3  4  5  6  7  8  9 10 11 12 13 14 15 16 17 18 19 20 21 22 23\n",
      " 24 25 26 27 28 29 30 31 32 33 34 35 36 37 38 39 40 41 42 43 44 45 46 47\n",
      " 48 49 50 51 52 53 54 55 56 57 58 59]\n",
      "\n",
      "Check unique values in Flat no column:\n",
      "[ 101  102  103  201  202  203  301  302  303  401  402  403  501  502\n",
      "  503  601  602  603  701  702  703  801  802  803  901  902  903 1001\n",
      " 1002 1003]\n",
      "\n",
      "Check unique values in Wing column:\n",
      "['A' 'B']\n",
      "\n",
      "Check unique values in Owner Name column:\n",
      "['Omkar' 'Bhavana' 'Govind' 'Reena' 'Karishma' 'Ragesh' 'Harshad' 'Abdul'\n",
      " 'Lohit' 'Vijay' 'Praveen' 'Arjun' 'Priya' 'Ravi' 'Deepak' 'Nandini'\n",
      " 'Nisha' 'Sunil' 'Priyanka' 'Rahul' 'Anjali' 'Aman' 'alok' 'Pooja' 'Anil'\n",
      " 'Simran' 'mayuri' 'Naveen' 'Anju' 'Vivek' 'tanmay' 'Rohit' 'Ankita'\n",
      " 'Suresh' 'omi' 'Karan' 'Neha' 'Sameer' 'shilpa' 'Romil' 'Sachin' 'Amit'\n",
      " 'abdul' 'Gaurav' 'Ashish' 'Lokesh' 'Mahesh' 'yash' 'rasika' 'Shivam'\n",
      " 'Vikas']\n",
      "\n",
      "Check unique values in Owner's Spouse Name column:\n",
      "['-' 'Parul' nan 'Shashi' 'Sneha' 'Nisha' 'Raghav' 'Vimesh' 'Chanda'\n",
      " 'Deeksha' 'Ekta' 'Anjali' 'Suman']\n",
      "\n",
      "Check unique values in No of Resident column:\n",
      "['4' '5' '7' '8' '-' '3' '6' '2' '1']\n",
      "\n",
      "Check unique values in Confirmed Members column:\n",
      "['4' '6' '3' '2' '15' '8' '20' '-' '1' '11' '9' '0' '7' '5']\n",
      "\n",
      "Check unique values in Origin of Owner column:\n",
      "['Maharashtra' 'Bangalore' 'Rajasthan' 'Madhya Pradesh' 'Gujurat' 'Kerala'\n",
      " 'Gujarat' 'Tamil Nadu' 'Karnataka' 'Uttar Pradesh' 'Delhi' 'Haryana'\n",
      " 'Punjab' 'Andhra Pradesh' '-' 'Kashmir' 'Assam']\n",
      "\n",
      "Check unique values in Flat Area (sq.mt) column:\n",
      "[500 550 600]\n",
      "\n",
      "Check unique values in No of Room column:\n",
      "[2 3]\n",
      "\n",
      "Check unique values in Tenant or owner column:\n",
      "['Owner' 'Tenant' 'tenant' 'owner']\n",
      "\n",
      "Check unique values in Maintenance Amt column:\n",
      "['6000' '7000' '5500' '-' nan]\n",
      "\n",
      "Check unique values in Availlability of owner column:\n",
      "['Yes' 'No' '-']\n",
      "\n",
      "Check unique values in Flat Vacancy column:\n",
      "['Owned' 'Vacant' '-' nan]\n",
      "\n",
      "Check unique values in Donation column:\n",
      "[ 2500. 10000.  1500.    nan  5000.  1000.  6000.]\n",
      "\n"
     ]
    }
   ],
   "source": [
    "# Check the unique values in each column\n",
    "for column in data:     \n",
    "    print(f\"Check unique values in {column} column:\\n{data[column].unique()}\\n\")"
   ]
  },
  {
   "cell_type": "markdown",
   "id": "a9a617e9",
   "metadata": {},
   "source": [
    "### 6. Missing Values\n",
    "Identify and report missing values in the dataset, which may require data imputation or further data collection strategies."
   ]
  },
  {
   "cell_type": "code",
   "execution_count": 7,
   "id": "94542e7c",
   "metadata": {},
   "outputs": [
    {
     "name": "stdout",
     "output_type": "stream",
     "text": [
      "\n",
      "Missing values count in each column:\n",
      "Unnamed: 0                 0\n",
      "Flat no                    0\n",
      "Wing                       0\n",
      "Owner Name                 0\n",
      "Owner's Spouse Name       42\n",
      "No of Resident             0\n",
      "Confirmed Members          0\n",
      "Origin of Owner            0\n",
      "Flat Area (sq.mt)          0\n",
      "No of Room                 0\n",
      "Tenant or owner            0\n",
      "Maintenance Amt           28\n",
      "Availlability of owner     0\n",
      "Flat Vacancy              17\n",
      "Donation                   5\n",
      "dtype: int64\n"
     ]
    }
   ],
   "source": [
    "print(\"\\nMissing values count in each column:\")\n",
    "print(data.isnull().sum())"
   ]
  },
  {
   "cell_type": "markdown",
   "id": "d6fe39b5",
   "metadata": {},
   "source": [
    "### 7. Duplicate values\n",
    "One important aspect of data quality is identifying and handling duplicated data. "
   ]
  },
  {
   "cell_type": "code",
   "execution_count": 8,
   "id": "c29ccc7b",
   "metadata": {},
   "outputs": [
    {
     "name": "stdout",
     "output_type": "stream",
     "text": [
      "Duplicate values count in the Dataframe: 0\n"
     ]
    }
   ],
   "source": [
    "print(f\"Duplicate values count in the Dataframe: {data.duplicated().sum()}\")"
   ]
  },
  {
   "cell_type": "markdown",
   "id": "a5c0a77b",
   "metadata": {},
   "source": [
    "### Overall Summary"
   ]
  },
  {
   "cell_type": "code",
   "execution_count": 9,
   "id": "c2f2fb72",
   "metadata": {},
   "outputs": [
    {
     "data": {
      "text/html": [
       "<div>\n",
       "<style scoped>\n",
       "    .dataframe tbody tr th:only-of-type {\n",
       "        vertical-align: middle;\n",
       "    }\n",
       "\n",
       "    .dataframe tbody tr th {\n",
       "        vertical-align: top;\n",
       "    }\n",
       "\n",
       "    .dataframe thead th {\n",
       "        text-align: right;\n",
       "    }\n",
       "</style>\n",
       "<table border=\"1\" class=\"dataframe\">\n",
       "  <thead>\n",
       "    <tr style=\"text-align: right;\">\n",
       "      <th></th>\n",
       "      <th>Data Type</th>\n",
       "      <th>Missing Values</th>\n",
       "      <th>Missing Percentage</th>\n",
       "      <th>Unique Values</th>\n",
       "      <th>Row_1</th>\n",
       "      <th>Row_2</th>\n",
       "      <th>Row_3</th>\n",
       "      <th>Row_4</th>\n",
       "      <th>Row_5</th>\n",
       "    </tr>\n",
       "  </thead>\n",
       "  <tbody>\n",
       "    <tr>\n",
       "      <th>Unnamed: 0</th>\n",
       "      <td>int64</td>\n",
       "      <td>0</td>\n",
       "      <td>0.00</td>\n",
       "      <td>60</td>\n",
       "      <td>0</td>\n",
       "      <td>1</td>\n",
       "      <td>2</td>\n",
       "      <td>3</td>\n",
       "      <td>4</td>\n",
       "    </tr>\n",
       "    <tr>\n",
       "      <th>Flat no</th>\n",
       "      <td>int64</td>\n",
       "      <td>0</td>\n",
       "      <td>0.00</td>\n",
       "      <td>30</td>\n",
       "      <td>101</td>\n",
       "      <td>102</td>\n",
       "      <td>103</td>\n",
       "      <td>201</td>\n",
       "      <td>202</td>\n",
       "    </tr>\n",
       "    <tr>\n",
       "      <th>Wing</th>\n",
       "      <td>object</td>\n",
       "      <td>0</td>\n",
       "      <td>0.00</td>\n",
       "      <td>2</td>\n",
       "      <td>A</td>\n",
       "      <td>A</td>\n",
       "      <td>A</td>\n",
       "      <td>A</td>\n",
       "      <td>A</td>\n",
       "    </tr>\n",
       "    <tr>\n",
       "      <th>Owner Name</th>\n",
       "      <td>object</td>\n",
       "      <td>0</td>\n",
       "      <td>0.00</td>\n",
       "      <td>51</td>\n",
       "      <td>Omkar</td>\n",
       "      <td>Bhavana</td>\n",
       "      <td>Govind</td>\n",
       "      <td>Reena</td>\n",
       "      <td>Karishma</td>\n",
       "    </tr>\n",
       "    <tr>\n",
       "      <th>Owner's Spouse Name</th>\n",
       "      <td>object</td>\n",
       "      <td>42</td>\n",
       "      <td>70.00</td>\n",
       "      <td>12</td>\n",
       "      <td>-</td>\n",
       "      <td>-</td>\n",
       "      <td>-</td>\n",
       "      <td>-</td>\n",
       "      <td>-</td>\n",
       "    </tr>\n",
       "    <tr>\n",
       "      <th>No of Resident</th>\n",
       "      <td>object</td>\n",
       "      <td>0</td>\n",
       "      <td>0.00</td>\n",
       "      <td>9</td>\n",
       "      <td>4</td>\n",
       "      <td>5</td>\n",
       "      <td>5</td>\n",
       "      <td>4</td>\n",
       "      <td>7</td>\n",
       "    </tr>\n",
       "    <tr>\n",
       "      <th>Confirmed Members</th>\n",
       "      <td>object</td>\n",
       "      <td>0</td>\n",
       "      <td>0.00</td>\n",
       "      <td>14</td>\n",
       "      <td>4</td>\n",
       "      <td>6</td>\n",
       "      <td>3</td>\n",
       "      <td>2</td>\n",
       "      <td>15</td>\n",
       "    </tr>\n",
       "    <tr>\n",
       "      <th>Origin of Owner</th>\n",
       "      <td>object</td>\n",
       "      <td>0</td>\n",
       "      <td>0.00</td>\n",
       "      <td>17</td>\n",
       "      <td>Maharashtra</td>\n",
       "      <td>Bangalore</td>\n",
       "      <td>Rajasthan</td>\n",
       "      <td>Madhya Pradesh</td>\n",
       "      <td>Gujurat</td>\n",
       "    </tr>\n",
       "    <tr>\n",
       "      <th>Flat Area (sq.mt)</th>\n",
       "      <td>int64</td>\n",
       "      <td>0</td>\n",
       "      <td>0.00</td>\n",
       "      <td>3</td>\n",
       "      <td>500</td>\n",
       "      <td>500</td>\n",
       "      <td>500</td>\n",
       "      <td>550</td>\n",
       "      <td>600</td>\n",
       "    </tr>\n",
       "    <tr>\n",
       "      <th>No of Room</th>\n",
       "      <td>int64</td>\n",
       "      <td>0</td>\n",
       "      <td>0.00</td>\n",
       "      <td>2</td>\n",
       "      <td>2</td>\n",
       "      <td>2</td>\n",
       "      <td>2</td>\n",
       "      <td>2</td>\n",
       "      <td>3</td>\n",
       "    </tr>\n",
       "    <tr>\n",
       "      <th>Tenant or owner</th>\n",
       "      <td>object</td>\n",
       "      <td>0</td>\n",
       "      <td>0.00</td>\n",
       "      <td>4</td>\n",
       "      <td>Owner</td>\n",
       "      <td>Owner</td>\n",
       "      <td>Owner</td>\n",
       "      <td>Tenant</td>\n",
       "      <td>Owner</td>\n",
       "    </tr>\n",
       "    <tr>\n",
       "      <th>Maintenance Amt</th>\n",
       "      <td>object</td>\n",
       "      <td>28</td>\n",
       "      <td>46.67</td>\n",
       "      <td>4</td>\n",
       "      <td>6000</td>\n",
       "      <td>6000</td>\n",
       "      <td>6000</td>\n",
       "      <td>6000</td>\n",
       "      <td>7000</td>\n",
       "    </tr>\n",
       "    <tr>\n",
       "      <th>Availlability of owner</th>\n",
       "      <td>object</td>\n",
       "      <td>0</td>\n",
       "      <td>0.00</td>\n",
       "      <td>3</td>\n",
       "      <td>Yes</td>\n",
       "      <td>Yes</td>\n",
       "      <td>Yes</td>\n",
       "      <td>No</td>\n",
       "      <td>No</td>\n",
       "    </tr>\n",
       "    <tr>\n",
       "      <th>Flat Vacancy</th>\n",
       "      <td>object</td>\n",
       "      <td>17</td>\n",
       "      <td>28.33</td>\n",
       "      <td>3</td>\n",
       "      <td>Owned</td>\n",
       "      <td>Owned</td>\n",
       "      <td>Owned</td>\n",
       "      <td>Owned</td>\n",
       "      <td>Owned</td>\n",
       "    </tr>\n",
       "    <tr>\n",
       "      <th>Donation</th>\n",
       "      <td>float64</td>\n",
       "      <td>5</td>\n",
       "      <td>8.33</td>\n",
       "      <td>6</td>\n",
       "      <td>2500.0</td>\n",
       "      <td>10000.0</td>\n",
       "      <td>1500.0</td>\n",
       "      <td>NaN</td>\n",
       "      <td>2500.0</td>\n",
       "    </tr>\n",
       "  </tbody>\n",
       "</table>\n",
       "</div>"
      ],
      "text/plain": [
       "                       Data Type  Missing Values  Missing Percentage  \\\n",
       "Unnamed: 0                 int64               0                0.00   \n",
       "Flat no                    int64               0                0.00   \n",
       "Wing                      object               0                0.00   \n",
       "Owner Name                object               0                0.00   \n",
       "Owner's Spouse Name       object              42               70.00   \n",
       "No of Resident            object               0                0.00   \n",
       "Confirmed Members         object               0                0.00   \n",
       "Origin of Owner           object               0                0.00   \n",
       "Flat Area (sq.mt)          int64               0                0.00   \n",
       "No of Room                 int64               0                0.00   \n",
       "Tenant or owner           object               0                0.00   \n",
       "Maintenance Amt           object              28               46.67   \n",
       "Availlability of owner    object               0                0.00   \n",
       "Flat Vacancy              object              17               28.33   \n",
       "Donation                 float64               5                8.33   \n",
       "\n",
       "                        Unique Values        Row_1      Row_2      Row_3  \\\n",
       "Unnamed: 0                         60            0          1          2   \n",
       "Flat no                            30          101        102        103   \n",
       "Wing                                2            A          A          A   \n",
       "Owner Name                         51        Omkar    Bhavana     Govind   \n",
       "Owner's Spouse Name                12            -          -          -   \n",
       "No of Resident                      9            4          5          5   \n",
       "Confirmed Members                  14            4          6          3   \n",
       "Origin of Owner                    17  Maharashtra  Bangalore  Rajasthan   \n",
       "Flat Area (sq.mt)                   3          500        500        500   \n",
       "No of Room                          2            2          2          2   \n",
       "Tenant or owner                     4        Owner      Owner      Owner   \n",
       "Maintenance Amt                     4         6000       6000       6000   \n",
       "Availlability of owner              3          Yes        Yes        Yes   \n",
       "Flat Vacancy                        3        Owned      Owned      Owned   \n",
       "Donation                            6       2500.0    10000.0     1500.0   \n",
       "\n",
       "                                 Row_4     Row_5  \n",
       "Unnamed: 0                           3         4  \n",
       "Flat no                            201       202  \n",
       "Wing                                 A         A  \n",
       "Owner Name                       Reena  Karishma  \n",
       "Owner's Spouse Name                  -         -  \n",
       "No of Resident                       4         7  \n",
       "Confirmed Members                    2        15  \n",
       "Origin of Owner         Madhya Pradesh   Gujurat  \n",
       "Flat Area (sq.mt)                  550       600  \n",
       "No of Room                           2         3  \n",
       "Tenant or owner                 Tenant     Owner  \n",
       "Maintenance Amt                   6000      7000  \n",
       "Availlability of owner              No        No  \n",
       "Flat Vacancy                     Owned     Owned  \n",
       "Donation                           NaN    2500.0  "
      ]
     },
     "execution_count": 9,
     "metadata": {},
     "output_type": "execute_result"
    }
   ],
   "source": [
    "data_type = pd.DataFrame(data.dtypes, columns=['Data Type'])\n",
    "missing = pd.DataFrame(data.isnull().sum(), columns=['Missing Values'])\n",
    "missing_percentage = pd.DataFrame(round(data.isnull().mean() * 100,2), columns=['Missing Percentage'])\n",
    "unique = pd.DataFrame(data.nunique(), columns=['Unique Values'])\n",
    "sample = pd.DataFrame(data.head().T)\n",
    "\n",
    "summary = pd.concat([data_type, missing, missing_percentage, unique, sample], axis=1)\n",
    "summary.rename(columns={0: 'Row_1',\n",
    "                        1: 'Row_2',\n",
    "                        2: 'Row_3',\n",
    "                        3: 'Row_4',\n",
    "                        4: 'Row_5'\n",
    "                       }, inplace=True)\n",
    "summary"
   ]
  },
  {
   "cell_type": "markdown",
   "id": "18720ba7",
   "metadata": {},
   "source": [
    "## Task 2: Data Cleaning\n",
    "### 1. Replace '-' with NaN\n",
    "In our dataset, missing values are represented as underscores. We'll replace these underscores with NaN (Not-a-Number) values using the replace function to facilitate further data processing."
   ]
  },
  {
   "cell_type": "code",
   "execution_count": 10,
   "id": "892604b1",
   "metadata": {},
   "outputs": [
    {
     "name": "stdout",
     "output_type": "stream",
     "text": [
      "Unnamed: 0                 0.00\n",
      "Flat no                    0.00\n",
      "Wing                       0.00\n",
      "Owner Name                 0.00\n",
      "Owner's Spouse Name       81.67\n",
      "No of Resident             6.67\n",
      "Confirmed Members          6.67\n",
      "Origin of Owner            1.67\n",
      "Flat Area (sq.mt)          0.00\n",
      "No of Room                 0.00\n",
      "Tenant or owner            0.00\n",
      "Maintenance Amt           48.33\n",
      "Availlability of owner     1.67\n",
      "Flat Vacancy              30.00\n",
      "Donation                   8.33\n",
      "dtype: float64\n"
     ]
    }
   ],
   "source": [
    "# Replace '-'\n",
    "data.replace('-', np.nan, inplace = True)\n",
    "\n",
    "# Check missing data percentage after replace\n",
    "print(round(data.isnull().mean()*100, 2))"
   ]
  },
  {
   "cell_type": "markdown",
   "id": "ccc67029",
   "metadata": {},
   "source": [
    "### 2. Drop Unnecessary Column\n",
    "we have identified that Unnamed: 0 and Owner's Spouse Name colums are not relevant. Dropping unnecessary columns helps simplify the dataset."
   ]
  },
  {
   "cell_type": "code",
   "execution_count": 11,
   "id": "78449b3e",
   "metadata": {},
   "outputs": [
    {
     "name": "stdout",
     "output_type": "stream",
     "text": [
      "Total columns before drop: 15\n",
      "Total columns after drop: 13\n"
     ]
    }
   ],
   "source": [
    "print('Total columns before drop:', len(data.columns))\n",
    "\n",
    "# drop columns\n",
    "data.drop(columns=[\"Unnamed: 0\", \"Owner's Spouse Name\"], inplace=True)\n",
    "\n",
    "print('Total columns after drop:', len(data.columns))"
   ]
  },
  {
   "cell_type": "markdown",
   "id": "cccfa5b5",
   "metadata": {},
   "source": [
    "### 3. Data Type Conversion\n",
    "We ensure that relevant columns are of the correct data types for analysis. Specifically, we convert 'No of Resident', 'Confirmed Members', 'Maintenance Amt' columns to numeric data types."
   ]
  },
  {
   "cell_type": "code",
   "execution_count": 12,
   "id": "ad62884f",
   "metadata": {},
   "outputs": [
    {
     "name": "stdout",
     "output_type": "stream",
     "text": [
      "Data type before conversion:\n",
      "No of Resident : object\n",
      "Confirmed Members : object\n",
      "Maintenance Amt : object\n",
      "\n",
      "Data type after conversion:\n",
      "No of Resident : float64\n",
      "Confirmed Members : float64\n",
      "Maintenance Amt : float64\n"
     ]
    }
   ],
   "source": [
    "# Columns to be converted\n",
    "columns = ['No of Resident', 'Confirmed Members', 'Maintenance Amt']\n",
    "\n",
    "# Data type before conversion\n",
    "print('Data type before conversion:')\n",
    "for col in columns:\n",
    "    print(col, ':', data[col].dtypes)\n",
    "    \n",
    "# convert to numeric\n",
    "for col in columns:\n",
    "    data[col] = pd.to_numeric(data[col], errors='coerce')\n",
    "    \n",
    "# Data type after conversion\n",
    "print('\\nData type after conversion:')\n",
    "for col in columns:\n",
    "    print(col, ':', data[col].dtypes)"
   ]
  },
  {
   "cell_type": "markdown",
   "id": "84441cb4",
   "metadata": {},
   "source": [
    "### 4. Impute Missing Values\n",
    "####  Impute Missing Values in 'Maintenance Amt' , ‘Flat Vacancy’, 'Donation', ‘No of Resident' , 'Confirmed Members', 'Availability of owner' and 'Origin of Owner' \n",
    "* To address missing values in the 'Maintenance Amt' column, we iteratively go through the DataFrame. For each missing value, we impute it based on the corresponding 'Flat Area (sq.mt)' value. We shall create a dictionary, 'avg_maintenance_amt', in the basis of grouping flat area, to fill in these values\n",
    "* We handle missing values in the 'Flat Vacancy' column by using a conditional approach. If 'Availability of owner' is 'Yes,' we assume the flat is owned ('Flat Vacancy' is 'Owned'), and if 'Availability of owner' is not 'Yes,' we consider the flat as vacant ('Flat Vacancy' is 'Vacant').\n",
    "* For missing values in the 'Donation', ‘No of Resident' , 'Confirmed Members' column, we impute them with the median value of the respective column.\n",
    "* Finally, we handle missing values in the 'Availability of owner' and 'Origin of Owner' columns by imputing them with the mode (most frequent value) of their respective columns.\n"
   ]
  },
  {
   "cell_type": "code",
   "execution_count": 13,
   "id": "faf137e2",
   "metadata": {},
   "outputs": [],
   "source": [
    "# Creating avg_maintenance_amt variable\n",
    "avg_maintenance_amt = data.groupby('Flat Area (sq.mt)')['Maintenance Amt'].median().to_dict()\n",
    "\n",
    "# Iterate rows to replace missing values in 'Maintenance Amt'\n",
    "for index, row in data.iterrows():\n",
    "    if pd.isnull(row['Maintenance Amt']):\n",
    "        flat_area = row['Flat Area (sq.mt)']\n",
    "        if flat_area in avg_maintenance_amt:\n",
    "            data.at[index, 'Maintenance Amt'] = avg_maintenance_amt[flat_area]\n",
    "\n",
    "# Replace missing values in 'Flat Vacancy' column based on 'Availability of owner'\n",
    "data['Flat Vacancy'] = data['Flat Vacancy'].fillna(\n",
    "    data['Availlability of owner'].apply(\n",
    "        lambda x: 'Vacant' if x != 'Yes' else 'Owned'\n",
    "    )\n",
    ")\n",
    "\n",
    "# Replace missing values in 'Donation', ‘No of Resident' , 'Confirmed Members' with median\n",
    "cols = ['Donation', 'No of Resident' , 'Confirmed Members']\n",
    "\n",
    "for col in cols:\n",
    "    data[col] = data[col].fillna(data[col].median())\n",
    "    \n",
    "# Replace missing values in 'Availability of owner', 'Origin of Owner' with mode\n",
    "cols = ['Availlability of owner', 'Origin of Owner']\n",
    "\n",
    "for col in cols:\n",
    "    data[col] = data[col].fillna(data[col].mode()[0])"
   ]
  },
  {
   "cell_type": "markdown",
   "id": "4b5f528b",
   "metadata": {},
   "source": [
    "### Cleaned Data Summary"
   ]
  },
  {
   "cell_type": "code",
   "execution_count": 14,
   "id": "1b280a7a",
   "metadata": {},
   "outputs": [
    {
     "data": {
      "text/html": [
       "<div>\n",
       "<style scoped>\n",
       "    .dataframe tbody tr th:only-of-type {\n",
       "        vertical-align: middle;\n",
       "    }\n",
       "\n",
       "    .dataframe tbody tr th {\n",
       "        vertical-align: top;\n",
       "    }\n",
       "\n",
       "    .dataframe thead th {\n",
       "        text-align: right;\n",
       "    }\n",
       "</style>\n",
       "<table border=\"1\" class=\"dataframe\">\n",
       "  <thead>\n",
       "    <tr style=\"text-align: right;\">\n",
       "      <th></th>\n",
       "      <th>Data Type</th>\n",
       "      <th>Missing Values</th>\n",
       "      <th>Missing Percentage</th>\n",
       "      <th>Unique Values</th>\n",
       "      <th>Row_1</th>\n",
       "      <th>Row_2</th>\n",
       "      <th>Row_3</th>\n",
       "      <th>Row_4</th>\n",
       "      <th>Row_5</th>\n",
       "    </tr>\n",
       "  </thead>\n",
       "  <tbody>\n",
       "    <tr>\n",
       "      <th>Flat no</th>\n",
       "      <td>int64</td>\n",
       "      <td>0</td>\n",
       "      <td>0.0</td>\n",
       "      <td>30</td>\n",
       "      <td>101</td>\n",
       "      <td>102</td>\n",
       "      <td>103</td>\n",
       "      <td>201</td>\n",
       "      <td>202</td>\n",
       "    </tr>\n",
       "    <tr>\n",
       "      <th>Wing</th>\n",
       "      <td>object</td>\n",
       "      <td>0</td>\n",
       "      <td>0.0</td>\n",
       "      <td>2</td>\n",
       "      <td>A</td>\n",
       "      <td>A</td>\n",
       "      <td>A</td>\n",
       "      <td>A</td>\n",
       "      <td>A</td>\n",
       "    </tr>\n",
       "    <tr>\n",
       "      <th>Owner Name</th>\n",
       "      <td>object</td>\n",
       "      <td>0</td>\n",
       "      <td>0.0</td>\n",
       "      <td>51</td>\n",
       "      <td>Omkar</td>\n",
       "      <td>Bhavana</td>\n",
       "      <td>Govind</td>\n",
       "      <td>Reena</td>\n",
       "      <td>Karishma</td>\n",
       "    </tr>\n",
       "    <tr>\n",
       "      <th>No of Resident</th>\n",
       "      <td>float64</td>\n",
       "      <td>0</td>\n",
       "      <td>0.0</td>\n",
       "      <td>8</td>\n",
       "      <td>4.0</td>\n",
       "      <td>5.0</td>\n",
       "      <td>5.0</td>\n",
       "      <td>4.0</td>\n",
       "      <td>7.0</td>\n",
       "    </tr>\n",
       "    <tr>\n",
       "      <th>Confirmed Members</th>\n",
       "      <td>float64</td>\n",
       "      <td>0</td>\n",
       "      <td>0.0</td>\n",
       "      <td>13</td>\n",
       "      <td>4.0</td>\n",
       "      <td>6.0</td>\n",
       "      <td>3.0</td>\n",
       "      <td>2.0</td>\n",
       "      <td>15.0</td>\n",
       "    </tr>\n",
       "    <tr>\n",
       "      <th>Origin of Owner</th>\n",
       "      <td>object</td>\n",
       "      <td>0</td>\n",
       "      <td>0.0</td>\n",
       "      <td>16</td>\n",
       "      <td>Maharashtra</td>\n",
       "      <td>Bangalore</td>\n",
       "      <td>Rajasthan</td>\n",
       "      <td>Madhya Pradesh</td>\n",
       "      <td>Gujurat</td>\n",
       "    </tr>\n",
       "    <tr>\n",
       "      <th>Flat Area (sq.mt)</th>\n",
       "      <td>int64</td>\n",
       "      <td>0</td>\n",
       "      <td>0.0</td>\n",
       "      <td>3</td>\n",
       "      <td>500</td>\n",
       "      <td>500</td>\n",
       "      <td>500</td>\n",
       "      <td>550</td>\n",
       "      <td>600</td>\n",
       "    </tr>\n",
       "    <tr>\n",
       "      <th>No of Room</th>\n",
       "      <td>int64</td>\n",
       "      <td>0</td>\n",
       "      <td>0.0</td>\n",
       "      <td>2</td>\n",
       "      <td>2</td>\n",
       "      <td>2</td>\n",
       "      <td>2</td>\n",
       "      <td>2</td>\n",
       "      <td>3</td>\n",
       "    </tr>\n",
       "    <tr>\n",
       "      <th>Tenant or owner</th>\n",
       "      <td>object</td>\n",
       "      <td>0</td>\n",
       "      <td>0.0</td>\n",
       "      <td>4</td>\n",
       "      <td>Owner</td>\n",
       "      <td>Owner</td>\n",
       "      <td>Owner</td>\n",
       "      <td>Tenant</td>\n",
       "      <td>Owner</td>\n",
       "    </tr>\n",
       "    <tr>\n",
       "      <th>Maintenance Amt</th>\n",
       "      <td>float64</td>\n",
       "      <td>0</td>\n",
       "      <td>0.0</td>\n",
       "      <td>3</td>\n",
       "      <td>6000.0</td>\n",
       "      <td>6000.0</td>\n",
       "      <td>6000.0</td>\n",
       "      <td>6000.0</td>\n",
       "      <td>7000.0</td>\n",
       "    </tr>\n",
       "    <tr>\n",
       "      <th>Availlability of owner</th>\n",
       "      <td>object</td>\n",
       "      <td>0</td>\n",
       "      <td>0.0</td>\n",
       "      <td>2</td>\n",
       "      <td>Yes</td>\n",
       "      <td>Yes</td>\n",
       "      <td>Yes</td>\n",
       "      <td>No</td>\n",
       "      <td>No</td>\n",
       "    </tr>\n",
       "    <tr>\n",
       "      <th>Flat Vacancy</th>\n",
       "      <td>object</td>\n",
       "      <td>0</td>\n",
       "      <td>0.0</td>\n",
       "      <td>2</td>\n",
       "      <td>Owned</td>\n",
       "      <td>Owned</td>\n",
       "      <td>Owned</td>\n",
       "      <td>Owned</td>\n",
       "      <td>Owned</td>\n",
       "    </tr>\n",
       "    <tr>\n",
       "      <th>Donation</th>\n",
       "      <td>float64</td>\n",
       "      <td>0</td>\n",
       "      <td>0.0</td>\n",
       "      <td>6</td>\n",
       "      <td>2500.0</td>\n",
       "      <td>10000.0</td>\n",
       "      <td>1500.0</td>\n",
       "      <td>2500.0</td>\n",
       "      <td>2500.0</td>\n",
       "    </tr>\n",
       "  </tbody>\n",
       "</table>\n",
       "</div>"
      ],
      "text/plain": [
       "                       Data Type  Missing Values  Missing Percentage  \\\n",
       "Flat no                    int64               0                 0.0   \n",
       "Wing                      object               0                 0.0   \n",
       "Owner Name                object               0                 0.0   \n",
       "No of Resident           float64               0                 0.0   \n",
       "Confirmed Members        float64               0                 0.0   \n",
       "Origin of Owner           object               0                 0.0   \n",
       "Flat Area (sq.mt)          int64               0                 0.0   \n",
       "No of Room                 int64               0                 0.0   \n",
       "Tenant or owner           object               0                 0.0   \n",
       "Maintenance Amt          float64               0                 0.0   \n",
       "Availlability of owner    object               0                 0.0   \n",
       "Flat Vacancy              object               0                 0.0   \n",
       "Donation                 float64               0                 0.0   \n",
       "\n",
       "                        Unique Values        Row_1      Row_2      Row_3  \\\n",
       "Flat no                            30          101        102        103   \n",
       "Wing                                2            A          A          A   \n",
       "Owner Name                         51        Omkar    Bhavana     Govind   \n",
       "No of Resident                      8          4.0        5.0        5.0   \n",
       "Confirmed Members                  13          4.0        6.0        3.0   \n",
       "Origin of Owner                    16  Maharashtra  Bangalore  Rajasthan   \n",
       "Flat Area (sq.mt)                   3          500        500        500   \n",
       "No of Room                          2            2          2          2   \n",
       "Tenant or owner                     4        Owner      Owner      Owner   \n",
       "Maintenance Amt                     3       6000.0     6000.0     6000.0   \n",
       "Availlability of owner              2          Yes        Yes        Yes   \n",
       "Flat Vacancy                        2        Owned      Owned      Owned   \n",
       "Donation                            6       2500.0    10000.0     1500.0   \n",
       "\n",
       "                                 Row_4     Row_5  \n",
       "Flat no                            201       202  \n",
       "Wing                                 A         A  \n",
       "Owner Name                       Reena  Karishma  \n",
       "No of Resident                     4.0       7.0  \n",
       "Confirmed Members                  2.0      15.0  \n",
       "Origin of Owner         Madhya Pradesh   Gujurat  \n",
       "Flat Area (sq.mt)                  550       600  \n",
       "No of Room                           2         3  \n",
       "Tenant or owner                 Tenant     Owner  \n",
       "Maintenance Amt                 6000.0    7000.0  \n",
       "Availlability of owner              No        No  \n",
       "Flat Vacancy                     Owned     Owned  \n",
       "Donation                        2500.0    2500.0  "
      ]
     },
     "execution_count": 14,
     "metadata": {},
     "output_type": "execute_result"
    }
   ],
   "source": [
    "# Show cleaned data summary\n",
    "data_type = pd.DataFrame(data.dtypes, columns=['Data Type'])\n",
    "missing = pd.DataFrame(data.isnull().sum(), columns=['Missing Values'])\n",
    "missing_percentage = pd.DataFrame(round(data.isnull().mean() * 100,2), columns=['Missing Percentage'])\n",
    "unique = pd.DataFrame(data.nunique(), columns=['Unique Values'])\n",
    "sample = pd.DataFrame(data.head().T)\n",
    "\n",
    "summary = pd.concat([data_type, missing, missing_percentage, unique, sample], axis=1)\n",
    "summary.rename(columns={0: 'Row_1',\n",
    "                        1: 'Row_2',\n",
    "                        2: 'Row_3',\n",
    "                        3: 'Row_4',\n",
    "                        4: 'Row_5'\n",
    "                       }, inplace=True)\n",
    "summary"
   ]
  },
  {
   "cell_type": "markdown",
   "id": "e154a422",
   "metadata": {},
   "source": [
    "## Task 3: Data Preparation and Preprocessing\n",
    "### 1. Calculate \"Outsiders\":\n",
    "\n",
    "Calculate the difference between the \"Confirmed Members\" and \"No of Resident\" columns and store the result in a new column called \"Outsiders.\""
   ]
  },
  {
   "cell_type": "code",
   "execution_count": 15,
   "id": "afbe6100",
   "metadata": {},
   "outputs": [],
   "source": [
    "data['Outsiders'] = data['Confirmed Members'] - data['No of Resident']"
   ]
  },
  {
   "cell_type": "markdown",
   "id": "d8add8d5",
   "metadata": {},
   "source": [
    "### 2. Set Values in \"Outsiders\" Column: \n",
    "* If the difference is less than or equal to zero, set the value to 0.\n",
    "* If the difference is greater than zer keep as it is"
   ]
  },
  {
   "cell_type": "code",
   "execution_count": 16,
   "id": "e02b9958",
   "metadata": {},
   "outputs": [],
   "source": [
    "data['Outsiders'] = data['Outsiders'].apply(lambda x: x if x > 0 else 0)"
   ]
  },
  {
   "cell_type": "markdown",
   "id": "15829d82",
   "metadata": {},
   "source": [
    "### 3. Standardize Columns:\n",
    "\n",
    "* Convert the values in the  'Origin of Owner', 'Tenant or owner', 'Availability of owner' and 'Flat Vacancy' columns to lowercase to ensure uniform formatting.\n",
    "\n",
    "* Lastly, standardize the 'Owner Name' column by converting it to title case to make names consistent and readable."
   ]
  },
  {
   "cell_type": "code",
   "execution_count": 17,
   "id": "a0b74e1e",
   "metadata": {},
   "outputs": [],
   "source": [
    "# Lowercase the values\n",
    "cols = ['Origin of Owner', 'Tenant or owner', 'Availlability of owner', 'Flat Vacancy']\n",
    "\n",
    "for col in cols:\n",
    "    data[col] = data[col].str.lower()\n",
    "    \n",
    "# Titlecase of Owner name\n",
    "data['Owner Name'] = data['Owner Name'].str.title()"
   ]
  },
  {
   "cell_type": "markdown",
   "id": "fc5ea494",
   "metadata": {},
   "source": [
    "### Show Data After Processing"
   ]
  },
  {
   "cell_type": "code",
   "execution_count": 18,
   "id": "c4b0b4fd",
   "metadata": {},
   "outputs": [
    {
     "data": {
      "text/html": [
       "<div>\n",
       "<style scoped>\n",
       "    .dataframe tbody tr th:only-of-type {\n",
       "        vertical-align: middle;\n",
       "    }\n",
       "\n",
       "    .dataframe tbody tr th {\n",
       "        vertical-align: top;\n",
       "    }\n",
       "\n",
       "    .dataframe thead th {\n",
       "        text-align: right;\n",
       "    }\n",
       "</style>\n",
       "<table border=\"1\" class=\"dataframe\">\n",
       "  <thead>\n",
       "    <tr style=\"text-align: right;\">\n",
       "      <th></th>\n",
       "      <th>Flat no</th>\n",
       "      <th>Wing</th>\n",
       "      <th>Owner Name</th>\n",
       "      <th>No of Resident</th>\n",
       "      <th>Confirmed Members</th>\n",
       "      <th>Origin of Owner</th>\n",
       "      <th>Flat Area (sq.mt)</th>\n",
       "      <th>No of Room</th>\n",
       "      <th>Tenant or owner</th>\n",
       "      <th>Maintenance Amt</th>\n",
       "      <th>Availlability of owner</th>\n",
       "      <th>Flat Vacancy</th>\n",
       "      <th>Donation</th>\n",
       "      <th>Outsiders</th>\n",
       "    </tr>\n",
       "  </thead>\n",
       "  <tbody>\n",
       "    <tr>\n",
       "      <th>0</th>\n",
       "      <td>101</td>\n",
       "      <td>A</td>\n",
       "      <td>Omkar</td>\n",
       "      <td>4.0</td>\n",
       "      <td>4.0</td>\n",
       "      <td>maharashtra</td>\n",
       "      <td>500</td>\n",
       "      <td>2</td>\n",
       "      <td>owner</td>\n",
       "      <td>6000.0</td>\n",
       "      <td>yes</td>\n",
       "      <td>owned</td>\n",
       "      <td>2500.0</td>\n",
       "      <td>0.0</td>\n",
       "    </tr>\n",
       "    <tr>\n",
       "      <th>1</th>\n",
       "      <td>102</td>\n",
       "      <td>A</td>\n",
       "      <td>Bhavana</td>\n",
       "      <td>5.0</td>\n",
       "      <td>6.0</td>\n",
       "      <td>bangalore</td>\n",
       "      <td>500</td>\n",
       "      <td>2</td>\n",
       "      <td>owner</td>\n",
       "      <td>6000.0</td>\n",
       "      <td>yes</td>\n",
       "      <td>owned</td>\n",
       "      <td>10000.0</td>\n",
       "      <td>1.0</td>\n",
       "    </tr>\n",
       "    <tr>\n",
       "      <th>2</th>\n",
       "      <td>103</td>\n",
       "      <td>A</td>\n",
       "      <td>Govind</td>\n",
       "      <td>5.0</td>\n",
       "      <td>3.0</td>\n",
       "      <td>rajasthan</td>\n",
       "      <td>500</td>\n",
       "      <td>2</td>\n",
       "      <td>owner</td>\n",
       "      <td>6000.0</td>\n",
       "      <td>yes</td>\n",
       "      <td>owned</td>\n",
       "      <td>1500.0</td>\n",
       "      <td>0.0</td>\n",
       "    </tr>\n",
       "    <tr>\n",
       "      <th>3</th>\n",
       "      <td>201</td>\n",
       "      <td>A</td>\n",
       "      <td>Reena</td>\n",
       "      <td>4.0</td>\n",
       "      <td>2.0</td>\n",
       "      <td>madhya pradesh</td>\n",
       "      <td>550</td>\n",
       "      <td>2</td>\n",
       "      <td>tenant</td>\n",
       "      <td>6000.0</td>\n",
       "      <td>no</td>\n",
       "      <td>owned</td>\n",
       "      <td>2500.0</td>\n",
       "      <td>0.0</td>\n",
       "    </tr>\n",
       "    <tr>\n",
       "      <th>4</th>\n",
       "      <td>202</td>\n",
       "      <td>A</td>\n",
       "      <td>Karishma</td>\n",
       "      <td>7.0</td>\n",
       "      <td>15.0</td>\n",
       "      <td>gujurat</td>\n",
       "      <td>600</td>\n",
       "      <td>3</td>\n",
       "      <td>owner</td>\n",
       "      <td>7000.0</td>\n",
       "      <td>no</td>\n",
       "      <td>owned</td>\n",
       "      <td>2500.0</td>\n",
       "      <td>8.0</td>\n",
       "    </tr>\n",
       "  </tbody>\n",
       "</table>\n",
       "</div>"
      ],
      "text/plain": [
       "   Flat no Wing Owner Name  No of Resident  Confirmed Members Origin of Owner  \\\n",
       "0      101    A      Omkar             4.0                4.0     maharashtra   \n",
       "1      102    A    Bhavana             5.0                6.0       bangalore   \n",
       "2      103    A     Govind             5.0                3.0       rajasthan   \n",
       "3      201    A      Reena             4.0                2.0  madhya pradesh   \n",
       "4      202    A   Karishma             7.0               15.0         gujurat   \n",
       "\n",
       "   Flat Area (sq.mt)  No of Room Tenant or owner  Maintenance Amt  \\\n",
       "0                500           2           owner           6000.0   \n",
       "1                500           2           owner           6000.0   \n",
       "2                500           2           owner           6000.0   \n",
       "3                550           2          tenant           6000.0   \n",
       "4                600           3           owner           7000.0   \n",
       "\n",
       "  Availlability of owner Flat Vacancy  Donation  Outsiders  \n",
       "0                    yes        owned    2500.0        0.0  \n",
       "1                    yes        owned   10000.0        1.0  \n",
       "2                    yes        owned    1500.0        0.0  \n",
       "3                     no        owned    2500.0        0.0  \n",
       "4                     no        owned    2500.0        8.0  "
      ]
     },
     "execution_count": 18,
     "metadata": {},
     "output_type": "execute_result"
    }
   ],
   "source": [
    "data.head()"
   ]
  },
  {
   "cell_type": "markdown",
   "id": "78ef85c8",
   "metadata": {},
   "source": [
    "## Task 4: Importing Caterer Data and Overview\n",
    "### 1. Read the CSV File and Display the First Few Rows: \n",
    "\n",
    "Load the data from 'Caterer_info.csv' into the DataFrame data2 and display the first few rows to understand the dataset's structure."
   ]
  },
  {
   "cell_type": "code",
   "execution_count": 19,
   "id": "825eec62",
   "metadata": {},
   "outputs": [
    {
     "name": "stdout",
     "output_type": "stream",
     "text": [
      "First few rows of the DataFrame:\n"
     ]
    },
    {
     "data": {
      "text/html": [
       "<div>\n",
       "<style scoped>\n",
       "    .dataframe tbody tr th:only-of-type {\n",
       "        vertical-align: middle;\n",
       "    }\n",
       "\n",
       "    .dataframe tbody tr th {\n",
       "        vertical-align: top;\n",
       "    }\n",
       "\n",
       "    .dataframe thead th {\n",
       "        text-align: right;\n",
       "    }\n",
       "</style>\n",
       "<table border=\"1\" class=\"dataframe\">\n",
       "  <thead>\n",
       "    <tr style=\"text-align: right;\">\n",
       "      <th></th>\n",
       "      <th>Unnamed: 0</th>\n",
       "      <th>Plate Cost</th>\n",
       "      <th>Decoration Price</th>\n",
       "      <th>Rating</th>\n",
       "      <th>Caterer Name</th>\n",
       "    </tr>\n",
       "  </thead>\n",
       "  <tbody>\n",
       "    <tr>\n",
       "      <th>0</th>\n",
       "      <td>0</td>\n",
       "      <td>280</td>\n",
       "      <td>5000</td>\n",
       "      <td>2.4</td>\n",
       "      <td>a</td>\n",
       "    </tr>\n",
       "    <tr>\n",
       "      <th>1</th>\n",
       "      <td>1</td>\n",
       "      <td>420</td>\n",
       "      <td>4300</td>\n",
       "      <td>3.8</td>\n",
       "      <td>b</td>\n",
       "    </tr>\n",
       "    <tr>\n",
       "      <th>2</th>\n",
       "      <td>2</td>\n",
       "      <td>390</td>\n",
       "      <td>5900</td>\n",
       "      <td>3.1</td>\n",
       "      <td>c</td>\n",
       "    </tr>\n",
       "    <tr>\n",
       "      <th>3</th>\n",
       "      <td>3</td>\n",
       "      <td>420</td>\n",
       "      <td>6900</td>\n",
       "      <td>4.6</td>\n",
       "      <td>d</td>\n",
       "    </tr>\n",
       "    <tr>\n",
       "      <th>4</th>\n",
       "      <td>4</td>\n",
       "      <td>280</td>\n",
       "      <td>6500</td>\n",
       "      <td>2.3</td>\n",
       "      <td>e</td>\n",
       "    </tr>\n",
       "  </tbody>\n",
       "</table>\n",
       "</div>"
      ],
      "text/plain": [
       "   Unnamed: 0  Plate Cost  Decoration Price  Rating Caterer Name\n",
       "0           0         280              5000     2.4            a\n",
       "1           1         420              4300     3.8            b\n",
       "2           2         390              5900     3.1            c\n",
       "3           3         420              6900     4.6            d\n",
       "4           4         280              6500     2.3            e"
      ]
     },
     "execution_count": 19,
     "metadata": {},
     "output_type": "execute_result"
    }
   ],
   "source": [
    "data2 = pd.read_csv('Caterer_info.csv')\n",
    "\n",
    "print(\"First few rows of the DataFrame:\")\n",
    "data2.head()"
   ]
  },
  {
   "cell_type": "markdown",
   "id": "149ec954",
   "metadata": {},
   "source": [
    "### 2. Check Data Types and Missing Values:\n",
    "\n",
    "Identify the data types of each column and check for any missing values in the dataset."
   ]
  },
  {
   "cell_type": "code",
   "execution_count": 20,
   "id": "5b35daf0",
   "metadata": {},
   "outputs": [
    {
     "name": "stdout",
     "output_type": "stream",
     "text": [
      "Data types and missing values:\n",
      "\n",
      "<class 'pandas.core.frame.DataFrame'>\n",
      "RangeIndex: 20 entries, 0 to 19\n",
      "Data columns (total 5 columns):\n",
      " #   Column            Non-Null Count  Dtype  \n",
      "---  ------            --------------  -----  \n",
      " 0   Unnamed: 0        20 non-null     int64  \n",
      " 1   Plate Cost        20 non-null     int64  \n",
      " 2   Decoration Price  20 non-null     int64  \n",
      " 3   Rating            20 non-null     float64\n",
      " 4   Caterer Name      20 non-null     object \n",
      "dtypes: float64(1), int64(3), object(1)\n",
      "memory usage: 932.0+ bytes\n"
     ]
    }
   ],
   "source": [
    "print(\"Data types and missing values:\\n\")\n",
    "data2.info()"
   ]
  },
  {
   "cell_type": "markdown",
   "id": "a9755055",
   "metadata": {},
   "source": [
    "### 3. Get Summary Statistics for Numeric Columns:\n",
    "\n",
    "Compute and Display summary statistics (mean, standard deviation, minimum, maximum, etc.) for the numeric columns in the DataFrame."
   ]
  },
  {
   "cell_type": "code",
   "execution_count": 21,
   "id": "16252946",
   "metadata": {},
   "outputs": [
    {
     "name": "stdout",
     "output_type": "stream",
     "text": [
      "Summary statistics for numeric columns:\n",
      "\n"
     ]
    },
    {
     "data": {
      "text/html": [
       "<div>\n",
       "<style scoped>\n",
       "    .dataframe tbody tr th:only-of-type {\n",
       "        vertical-align: middle;\n",
       "    }\n",
       "\n",
       "    .dataframe tbody tr th {\n",
       "        vertical-align: top;\n",
       "    }\n",
       "\n",
       "    .dataframe thead th {\n",
       "        text-align: right;\n",
       "    }\n",
       "</style>\n",
       "<table border=\"1\" class=\"dataframe\">\n",
       "  <thead>\n",
       "    <tr style=\"text-align: right;\">\n",
       "      <th></th>\n",
       "      <th>Unnamed: 0</th>\n",
       "      <th>Plate Cost</th>\n",
       "      <th>Decoration Price</th>\n",
       "      <th>Rating</th>\n",
       "    </tr>\n",
       "  </thead>\n",
       "  <tbody>\n",
       "    <tr>\n",
       "      <th>count</th>\n",
       "      <td>20.00000</td>\n",
       "      <td>20.000000</td>\n",
       "      <td>20.000000</td>\n",
       "      <td>20.000000</td>\n",
       "    </tr>\n",
       "    <tr>\n",
       "      <th>mean</th>\n",
       "      <td>9.50000</td>\n",
       "      <td>374.000000</td>\n",
       "      <td>5430.000000</td>\n",
       "      <td>3.475000</td>\n",
       "    </tr>\n",
       "    <tr>\n",
       "      <th>std</th>\n",
       "      <td>5.91608</td>\n",
       "      <td>74.861275</td>\n",
       "      <td>918.866579</td>\n",
       "      <td>0.741176</td>\n",
       "    </tr>\n",
       "    <tr>\n",
       "      <th>min</th>\n",
       "      <td>0.00000</td>\n",
       "      <td>250.000000</td>\n",
       "      <td>4200.000000</td>\n",
       "      <td>2.300000</td>\n",
       "    </tr>\n",
       "    <tr>\n",
       "      <th>25%</th>\n",
       "      <td>4.75000</td>\n",
       "      <td>317.500000</td>\n",
       "      <td>4775.000000</td>\n",
       "      <td>3.100000</td>\n",
       "    </tr>\n",
       "    <tr>\n",
       "      <th>50%</th>\n",
       "      <td>9.50000</td>\n",
       "      <td>375.000000</td>\n",
       "      <td>5200.000000</td>\n",
       "      <td>3.550000</td>\n",
       "    </tr>\n",
       "    <tr>\n",
       "      <th>75%</th>\n",
       "      <td>14.25000</td>\n",
       "      <td>420.000000</td>\n",
       "      <td>6050.000000</td>\n",
       "      <td>4.000000</td>\n",
       "    </tr>\n",
       "    <tr>\n",
       "      <th>max</th>\n",
       "      <td>19.00000</td>\n",
       "      <td>500.000000</td>\n",
       "      <td>7000.000000</td>\n",
       "      <td>4.800000</td>\n",
       "    </tr>\n",
       "  </tbody>\n",
       "</table>\n",
       "</div>"
      ],
      "text/plain": [
       "       Unnamed: 0  Plate Cost  Decoration Price     Rating\n",
       "count    20.00000   20.000000         20.000000  20.000000\n",
       "mean      9.50000  374.000000       5430.000000   3.475000\n",
       "std       5.91608   74.861275        918.866579   0.741176\n",
       "min       0.00000  250.000000       4200.000000   2.300000\n",
       "25%       4.75000  317.500000       4775.000000   3.100000\n",
       "50%       9.50000  375.000000       5200.000000   3.550000\n",
       "75%      14.25000  420.000000       6050.000000   4.000000\n",
       "max      19.00000  500.000000       7000.000000   4.800000"
      ]
     },
     "execution_count": 21,
     "metadata": {},
     "output_type": "execute_result"
    }
   ],
   "source": [
    "print(\"Summary statistics for numeric columns:\\n\")\n",
    "data2.describe()"
   ]
  },
  {
   "cell_type": "markdown",
   "id": "0731c6f3",
   "metadata": {},
   "source": [
    "### 4. Count Unique Values in Each Column:\n",
    "\n",
    "Understand the cardinality of unique values in each column."
   ]
  },
  {
   "cell_type": "code",
   "execution_count": 22,
   "id": "5b346e9c",
   "metadata": {},
   "outputs": [
    {
     "name": "stdout",
     "output_type": "stream",
     "text": [
      "Number of unique values in each column:\n",
      "\n"
     ]
    },
    {
     "data": {
      "text/plain": [
       "Unnamed: 0          20\n",
       "Plate Cost          14\n",
       "Decoration Price    13\n",
       "Rating              12\n",
       "Caterer Name        20\n",
       "dtype: int64"
      ]
     },
     "execution_count": 22,
     "metadata": {},
     "output_type": "execute_result"
    }
   ],
   "source": [
    "print(\"Number of unique values in each column:\\n\")\n",
    "data2.nunique()"
   ]
  },
  {
   "cell_type": "markdown",
   "id": "bb5576dc",
   "metadata": {},
   "source": [
    "### 5. Check Unique Values in Each Column:\n",
    "\n",
    "Check for unique values in each column of the DataFrame and display the unique values."
   ]
  },
  {
   "cell_type": "code",
   "execution_count": 23,
   "id": "c927b8a4",
   "metadata": {},
   "outputs": [
    {
     "name": "stdout",
     "output_type": "stream",
     "text": [
      "Unique values in 'Unnamed: 0' column:\n",
      "[ 0  1  2  3  4  5  6  7  8  9 10 11 12 13 14 15 16 17 18 19]\n",
      "\n",
      "Unique values in 'Plate Cost' column:\n",
      "[280 420 390 360 250 370 400 380 440 490 320 480 500 310]\n",
      "\n",
      "Unique values in 'Decoration Price' column:\n",
      "[5000 4300 5900 6900 6500 7000 4200 4800 5800 5600 4700 4900 5400]\n",
      "\n",
      "Unique values in 'Rating' column:\n",
      "[2.4 3.8 3.1 4.6 2.3 3.3 3.4 4.  4.3 3.2 4.8 3.7]\n",
      "\n",
      "Unique values in 'Caterer Name' column:\n",
      "['a' 'b' 'c' 'd' 'e' 'f' 'g' 'h' 'i' 'j' 'k' 'l' 'm' 'n' 'o' 'p' 'q' 'r'\n",
      " 's' 't']\n",
      "\n"
     ]
    }
   ],
   "source": [
    "for col in data2:\n",
    "    print(f\"Unique values in '{col}' column:\\n{data2[col].unique()}\\n\")"
   ]
  },
  {
   "cell_type": "markdown",
   "id": "2f9506a0",
   "metadata": {},
   "source": [
    "### 6. Check for Missing Values:\n",
    "\n",
    "Check for missing values in the dataframe and display the count of missing values."
   ]
  },
  {
   "cell_type": "code",
   "execution_count": 24,
   "id": "6f4310ec",
   "metadata": {},
   "outputs": [
    {
     "name": "stdout",
     "output_type": "stream",
     "text": [
      "Total missing Values in this data:\n",
      "Unnamed: 0          0\n",
      "Plate Cost          0\n",
      "Decoration Price    0\n",
      "Rating              0\n",
      "Caterer Name        0\n",
      "dtype: int64\n"
     ]
    }
   ],
   "source": [
    "print(f'Total missing Values in this data:\\n{data2.isnull().sum()}')"
   ]
  },
  {
   "cell_type": "markdown",
   "id": "44c86646",
   "metadata": {},
   "source": [
    "### 7. Check for Duplicate Values:\n",
    "\n",
    "Check for duplicate rows in the DataFrame and display the count of duplicated values."
   ]
  },
  {
   "cell_type": "code",
   "execution_count": 25,
   "id": "89d63df1",
   "metadata": {},
   "outputs": [
    {
     "name": "stdout",
     "output_type": "stream",
     "text": [
      "Total duplicate Values in this data:\n",
      "0\n"
     ]
    }
   ],
   "source": [
    "print(f'Total duplicate Values in this data:\\n{data2.duplicated().sum()}')"
   ]
  },
  {
   "cell_type": "markdown",
   "id": "f4267053",
   "metadata": {},
   "source": [
    "## Task 5: Demographic Analysis\n",
    "\n",
    "In this section of the capstone project, we will conduct a demographic analysis of the housing society dataset. This analysis aims to provide an overview of the residents' characteristics, flat information, and ownership structure. By gaining insights into these demographic factors, we can make informed decisions for event planning, resource allocation, and enhancing resident satisfaction.\n",
    "\n",
    "### 1. Demographic Overview:\n",
    "\n",
    "* Calculate the average number of residents per flat.\n",
    "* Determine the distribution of residents by their place of origin.\n",
    "* Visualize the distribution of residents by origin using a bar plot."
   ]
  },
  {
   "cell_type": "code",
   "execution_count": 26,
   "id": "89fe733e",
   "metadata": {},
   "outputs": [
    {
     "name": "stdout",
     "output_type": "stream",
     "text": [
      "Average number of resident per flat is: 4.08\n",
      "\n",
      "Distribution of resident by origin:\n",
      "Origin of Owner\n",
      "maharashtra       16\n",
      "kerala             6\n",
      "rajasthan          5\n",
      "madhya pradesh     4\n",
      "tamil nadu         4\n",
      "haryana            4\n",
      "gujarat            3\n",
      "karnataka          3\n",
      "delhi              3\n",
      "punjab             3\n",
      "bangalore          2\n",
      "gujurat            2\n",
      "uttar pradesh      2\n",
      "andhra pradesh     1\n",
      "kashmir            1\n",
      "assam              1\n",
      "Name: count, dtype: int64\n"
     ]
    },
    {
     "data": {
      "image/png": "[encoded data removed]",
      "text/plain": [
       "<Figure size 1500x700 with 1 Axes>"
      ]
     },
     "metadata": {},
     "output_type": "display_data"
    }
   ],
   "source": [
    "# Calculate average number of resident per flat\n",
    "avg_resident = round(data['No of Resident'].mean(), 2)\n",
    "print('Average number of resident per flat is:', avg_resident)\n",
    "\n",
    "# Distribution of residents by origin\n",
    "origin_dist = data['Origin of Owner'].value_counts()\n",
    "print(f'\\nDistribution of resident by origin:\\n{origin_dist}')\n",
    "\n",
    "# Create a bar plot to visualize the distribution\n",
    "plt.figure(figsize=(15,7))\n",
    "sns.set_style(\"darkgrid\")\n",
    "sns.barplot(x=origin_dist.index, \n",
    "            y=origin_dist.values, \n",
    "            palette='mako')\n",
    "\n",
    "plt.title('Distribution of Origin', fontsize=14, fontweight='bold')\n",
    "plt.xlabel('Origin of Owner', fontweight='bold')\n",
    "plt.ylabel('Count', fontweight='bold')\n",
    "plt.xticks(rotation=45)\n",
    "\n",
    "plt.show()"
   ]
  },
  {
   "cell_type": "markdown",
   "id": "4557cb66",
   "metadata": {},
   "source": [
    "### 2. Flat Information:\n",
    "\n",
    "* Calculate the average flat area (in square meters).\n",
    "* Find the most common number of rooms in flats.\n",
    "* Visualize the distribution of flat areas using a histogram."
   ]
  },
  {
   "cell_type": "code",
   "execution_count": 27,
   "id": "39b05a59",
   "metadata": {},
   "outputs": [
    {
     "name": "stdout",
     "output_type": "stream",
     "text": [
      "Average flat area is 554.17 square meter\n",
      "\n",
      "The most common number of room is: 2\n"
     ]
    },
    {
     "data": {
      "image/png": "[encoded data removed]",
      "text/plain": [
       "<Figure size 600x400 with 1 Axes>"
      ]
     },
     "metadata": {},
     "output_type": "display_data"
    }
   ],
   "source": [
    "# Calculate the average flat area \n",
    "avg_area = round(data['Flat Area (sq.mt)'].mean(), 2)\n",
    "print(f'Average flat area is {avg_area} square meter')\n",
    "\n",
    "# Find the most common no of room\n",
    "com_room = data['No of Room'].mode()[0]\n",
    "print(f'\\nThe most common number of room is: {com_room}')\n",
    "\n",
    "# Creating histogram for distribution of flat area\n",
    "plt.figure(figsize=(6,4))\n",
    "sns.set_style(\"darkgrid\")\n",
    "sns.histplot(data['Flat Area (sq.mt)'], kde=True)\n",
    "plt.title('Distribution of Flat Area', fontsize=12, fontweight='bold')\n",
    "plt.show()"
   ]
  },
  {
   "cell_type": "markdown",
   "id": "648de02a",
   "metadata": {},
   "source": [
    "### 3. Owner and Tenant Information:\n",
    "\n",
    "* Calculate the percentage of flat owners and tenants in the housing society.\n",
    "* Visualize the distribution of flat ownership using a pie chart."
   ]
  },
  {
   "cell_type": "code",
   "execution_count": 63,
   "id": "da244b99",
   "metadata": {},
   "outputs": [
    {
     "name": "stdout",
     "output_type": "stream",
     "text": [
      "The percentage of flat owners and tenants\n",
      "Tenant or owner\n",
      "owner     60.0\n",
      "tenant    40.0\n",
      "Name: proportion, dtype: float64\n"
     ]
    },
    {
     "data": {
      "image/png": "[encoded data removed]",
      "text/plain": [
       "<Figure size 1000x600 with 1 Axes>"
      ]
     },
     "metadata": {},
     "output_type": "display_data"
    }
   ],
   "source": [
    "# Calculating percentage of owners and tenants\n",
    "percentage = data['Tenant or owner'].value_counts(normalize=True)*100\n",
    "print(f'The percentage of flat owners and tenants\\n{percentage}')\n",
    "\n",
    "# Visualization\n",
    "plt.figure(figsize=(10,6))\n",
    "\n",
    "plt.pie(percentage,\n",
    "        labels=percentage.index, \n",
    "        autopct='%1.1f%%', \n",
    "        startangle=90,\n",
    "        explode=(0.05,0),\n",
    "        colors = ['#219ebc','#023047'])\n",
    "plt.title('Percentage of Flat Owners and Tenants', fontsize=16, fontweight='bold')\n",
    "plt.show()"
   ]
  },
  {
   "cell_type": "markdown",
   "id": "e407bc37",
   "metadata": {},
   "source": [
    "### 4. Print Calculated Statistics:\n",
    "\n",
    "Print the calculated statistics, including the average number of residents per flat, average flat area, most common number of rooms, and percentages of flat owners and tenants."
   ]
  },
  {
   "cell_type": "code",
   "execution_count": 79,
   "id": "e52df12c",
   "metadata": {},
   "outputs": [
    {
     "name": "stdout",
     "output_type": "stream",
     "text": [
      "Average number of residents per flat is: 4.08\n",
      "Average flat area is: 554.17\n",
      "Most common number of rooms is: 2\n",
      "Percentages of flat owners is: 60.0\n",
      "Percentages of tenants is: 40.0\n"
     ]
    }
   ],
   "source": [
    "# Print Statistics\n",
    "print('Average number of residents per flat is:', avg_resident)\n",
    "print('Average flat area is:', avg_area)\n",
    "print('Most common number of rooms is:', com_room)\n",
    "print(f'Percentages of flat owners is: {percentage[0]}\\n\\\n",
    "Percentages of tenants is: {percentage[1]}')"
   ]
  },
  {
   "cell_type": "markdown",
   "id": "013f71ce",
   "metadata": {},
   "source": [
    "### 5. Visualizations:\n",
    "\n",
    "Display the visualizations for the distribution of residents by origin, flat area, distribution, and the distribution of flat owners vs. tenants."
   ]
  },
  {
   "cell_type": "code",
   "execution_count": 167,
   "id": "eefc6465",
   "metadata": {},
   "outputs": [
    {
     "data": {
      "image/png": "[encoded data removed]",
      "text/plain": [
       "<Figure size 2000x1800 with 3 Axes>"
      ]
     },
     "metadata": {},
     "output_type": "display_data"
    }
   ],
   "source": [
    "col = '#C6CCD6'\n",
    "fig = plt.figure(figsize=(20,18), facecolor=col)\n",
    "a = plt.subplot2grid((2, 2), (0, 0), colspan=2)\n",
    "b = plt.subplot2grid((2, 2), (1, 0))\n",
    "c = plt.subplot2grid((2, 2), (1, 1))\n",
    "\n",
    "# Plot for distribution of origin\n",
    "sns.barplot(x=origin_dist.index, \n",
    "            y=origin_dist.values, \n",
    "            ax=a,\n",
    "            palette='mako')\n",
    "a.set_title('Distribution of Residents by Origin', fontsize=16, fontweight='bold')\n",
    "a.set_xlabel('Origin of Resident', fontweight='bold')\n",
    "a.set_ylabel('Count of Resident', fontweight='bold')\n",
    "\n",
    "# Histogram plot for distribution of flat area\n",
    "sns.histplot(data['Flat Area (sq.mt)'], kde=True, ax=b)\n",
    "b.set_title('Distribution of Flat Area', fontsize=16, fontweight='bold')\n",
    "b.set_xlabel('Flat Area (sq mt)', fontweight='bold')\n",
    "b.set_ylabel('Count of Flat', fontweight='bold')\n",
    "\n",
    "# Pie chart for visualize percentage of owners and tenants\n",
    "c.pie(percentage,\n",
    "        labels=percentage.index, \n",
    "        autopct='%1.1f%%', \n",
    "        startangle=90,\n",
    "        explode=(0.05,0),\n",
    "        colors = ['#219ebc','#023047'])\n",
    "c.set_title('Percentage of Flat Owners and Tenants', fontsize=16, fontweight='bold')\n",
    "\n",
    "plt.show()"
   ]
  },
  {
   "cell_type": "markdown",
   "id": "00adc064",
   "metadata": {},
   "source": [
    "## Task 6: Optimizing Event Planning and Resident Engagement\n",
    "### 1. Resident Participation:\n",
    "\n",
    "* Calculate the percentage of residents' participation by dividing the 'Confirmed Members' by the 'No of Resident' columns and multiplying by 100 to get the percentage.\n",
    "* Visualize the data by creating a box plot that shows resident participation based on flat type (Owner or Tenant)."
   ]
  },
  {
   "cell_type": "code",
   "execution_count": 200,
   "id": "6eec1019",
   "metadata": {},
   "outputs": [
    {
     "data": {
      "image/png": "[encoded data removed]",
      "text/plain": [
       "<Figure size 800x600 with 1 Axes>"
      ]
     },
     "metadata": {},
     "output_type": "display_data"
    }
   ],
   "source": [
    "# Calculate percentage of resident participation\n",
    "participation_percentage = round(data['Confirmed Members']/data['No of Resident']*100, 2)\n",
    "\n",
    "# Visualization with box plot\n",
    "plt.figure(figsize=(8,6))\n",
    "\n",
    "sns.boxplot(data=data, x='Tenant or owner', y=participation_percentage)\n",
    "plt.title('Resident Participation based on Flat Type', fontsize=14, fontweight='bold')\n",
    "\n",
    "plt.show()"
   ]
  },
  {
   "cell_type": "markdown",
   "id": "f26d2d20",
   "metadata": {},
   "source": [
    "### 2. Donations Analysis:\n",
    "\n",
    "Calculate the average donation amount by finding the mean of the 'Donation' column.\n",
    "Calculate the total donation amount by summing the 'Donation' column."
   ]
  },
  {
   "cell_type": "code",
   "execution_count": 189,
   "id": "859825e0",
   "metadata": {},
   "outputs": [
    {
     "name": "stdout",
     "output_type": "stream",
     "text": [
      "Average donation amount per flat is: 4000.0\n",
      "Toatal donation amount is: 240000.0\n"
     ]
    }
   ],
   "source": [
    "avg_donation = data['Donation'].mean()\n",
    "total_donation = data['Donation'].sum()\n",
    "\n",
    "print('Average donation amount per flat is:', avg_donation)\n",
    "print('Toatal donation amount is:', total_donation)"
   ]
  },
  {
   "cell_type": "markdown",
   "id": "941f5f84",
   "metadata": {},
   "source": [
    "### 3. Event Planning Recommendations:\n",
    "\n",
    "Create a list called 'recommendations' to store our event planning suggestions based on the data analysis.\n",
    "Check if the average donation amount is greater than or equal to 5000, suggesting a higher budget for the event.\n",
    "We check if the mean percentage of participation is above 70%, indicating a good turnout expectation.\n",
    "We check if the total donation amount collected exceeds 50000, indicating sufficient funds."
   ]
  },
  {
   "cell_type": "code",
   "execution_count": 207,
   "id": "03a61b3f",
   "metadata": {},
   "outputs": [
    {
     "name": "stdout",
     "output_type": "stream",
     "text": [
      "Percentage of Residents' Participation in the Event: 86.89\n",
      "Average Donation Amount: 4000.0\n",
      "Total Donation Amount Collected: 240000.0\n",
      "\n",
      "Event Planning Recommendations:\n",
      "- Budget allocation may be optimized based on donations.\n",
      "- Expect a good turnout for the event.\n",
      "- Sufficient funds are available for event planning.\n"
     ]
    }
   ],
   "source": [
    "# Create a list of recomendations\n",
    "recomendations = []\n",
    "\n",
    "# Consider budget\n",
    "if avg_donation >= 5000:\n",
    "    recomendations.append(\"Consider a higher budget for the event.\")\n",
    "else:\n",
    "    recomendations.append(\"Budget allocation may be optimized based on donations.\")\n",
    "\n",
    "# Checking turnout\n",
    "avg_participation_percentage = round(participation_percentage.mean(), 2)\n",
    "if avg_participation_percentage > 70:\n",
    "    recomendations.append(\"Expect a good turnout for the event.\")\n",
    "else:\n",
    "    recomendations.append(\"Engage in more outreach to boost participation.\")\n",
    "    \n",
    "# Checking funds\n",
    "if total_donation > 50000:\n",
    "    recomendations.append(\"Sufficient funds are available for event planning.\")\n",
    "else:\n",
    "    recomendations.append(\"Consider additional fundraising efforts.\")\n",
    "\n",
    "# Print the calculated statistics and recommendations\n",
    "print(\"Percentage of Residents' Participation in the Event:\", avg_participation_percentage)\n",
    "print(\"Average Donation Amount:\", avg_donation)\n",
    "print(\"Total Donation Amount Collected:\", total_donation)\n",
    "print(\"\\nEvent Planning Recommendations:\")\n",
    "for recommendation in recomendations:\n",
    "    print(\"- \" + recommendation)"
   ]
  },
  {
   "cell_type": "markdown",
   "id": "fd6d47d4",
   "metadata": {},
   "source": [
    "## Task 7: Decorator and Caterer Analysis for Grand Housing Society Event\n",
    "### 1. Decorator Analysis:\n",
    "\n",
    "\n",
    "We start by identifying the decorator with the highest rating and the most cost-effective decorator based on decoration price.\n",
    "“highest_rated_decorator” stores the decorator with the highest rating, and “cost_effective_decorator” stores the decorator with the lowest decoration price.\n"
   ]
  },
  {
   "cell_type": "code",
   "execution_count": 217,
   "id": "777c0501",
   "metadata": {},
   "outputs": [],
   "source": [
    "# Decorator analysis\n",
    "highest_rated_dec = data2[data2['Rating'] == data2['Rating'].max()]\n",
    "cheapest_dec = data2[data2['Decoration Price'] == data2['Decoration Price'].min()]"
   ]
  },
  {
   "cell_type": "markdown",
   "id": "ce059874",
   "metadata": {},
   "source": [
    "### 2. Caterer Analysis:\n",
    "\n",
    " \n",
    "\n",
    "\n",
    " \n",
    "\n",
    "Similar to decorator analysis, we identify the caterer with the highest rating and the most cost-effective caterer based on plate cost.\n",
    "“highest_rated_caterer” stores the caterer with the highest rating, and “cost_effective_caterer” stores the caterer with the lowest plate cost.\n"
   ]
  },
  {
   "cell_type": "code",
   "execution_count": 219,
   "id": "b14869d9",
   "metadata": {},
   "outputs": [],
   "source": [
    "# Caterar analysis\n",
    "highest_rated_caterer = data2[data2['Rating'] == data2['Rating'].max()]\n",
    "cost_effective_caterer = data2[data2['Plate Cost'] == data2['Plate Cost'].min()]"
   ]
  },
  {
   "cell_type": "markdown",
   "id": "e2fc822b",
   "metadata": {},
   "source": [
    "### 3. Caterer and Decorator Recommendations:\n",
    "\n",
    " \n",
    "\n",
    "\n",
    "* We provide recommendations for selecting the best caterer and decorator.\n",
    "* “decorator_recommendation” suggests the highest-rated decorator with their rating.\n",
    "* “caterer_recommendation” suggests the most cost-effective caterer with their plate cost."
   ]
  },
  {
   "cell_type": "code",
   "execution_count": 230,
   "id": "8f9c752a",
   "metadata": {},
   "outputs": [
    {
     "name": "stdout",
     "output_type": "stream",
     "text": [
      "Decorator Analysis:\n",
      "-------------------\n",
      "Decorator with Highest Rating:\n",
      "    Unnamed: 0  Plate Cost  Decoration Price  Rating Caterer Name\n",
      "15          15         320              5400     4.8            p\n",
      "\n",
      "Most Cost-Effective Decorator:\n",
      "   Unnamed: 0  Plate Cost  Decoration Price  Rating Caterer Name\n",
      "6           6         250              4200     3.4            g\n",
      "\n",
      "\n",
      "Caterer Analysis:\n",
      "------------------\n",
      "Caterer with Highest Rating:\n",
      "    Unnamed: 0  Plate Cost  Decoration Price  Rating Caterer Name\n",
      "15          15         320              5400     4.8            p\n",
      "\n",
      "Most Cost-Effective Caterer:\n",
      "    Unnamed: 0  Plate Cost  Decoration Price  Rating Caterer Name\n",
      "6            6         250              4200     3.4            g\n",
      "12          12         250              5000     4.3            m\n",
      "\n",
      "\n",
      "Caterer and Decorator Recommendations:\n",
      "-------------------------------\n",
      "The highest-rated decorator is 'p' with a rating of 4.8.\n",
      "The most cost-effective caterer is 'g' with a plate cost of 250.\n"
     ]
    }
   ],
   "source": [
    "# Recommendations for selecting the best caterer and decorator\n",
    "decorator_recommendation = f\"The highest-rated decorator is \\\n",
    "'{highest_rated_dec['Caterer Name'].values[0]}' with a rating of \\\n",
    "{highest_rated_dec['Rating'].values[0]}.\"\n",
    "\n",
    "caterer_recommendation = f\"The most cost-effective caterer is \\\n",
    "'{cost_effective_caterer['Caterer Name'].values[0]}' with a plate cost of \\\n",
    "{cost_effective_caterer['Plate Cost'].values[0]}.\"\n",
    "\n",
    "# Print the analysis results and recommendations\n",
    "print(\"Decorator Analysis:\\n-------------------\")\n",
    "print(\"Decorator with Highest Rating:\")\n",
    "print(highest_rated_dec)\n",
    "print(\"\\nMost Cost-Effective Decorator:\")\n",
    "print(cheapest_dec)\n",
    "print(\"\\n\\nCaterer Analysis:\\n------------------\")\n",
    "print(\"Caterer with Highest Rating:\")\n",
    "print(highest_rated_caterer)\n",
    "print(\"\\nMost Cost-Effective Caterer:\")\n",
    "print(cost_effective_caterer)\n",
    "print(\"\\n\\nCaterer and Decorator Recommendations:\\n-------------------------------\")\n",
    "print(decorator_recommendation)\n",
    "print(caterer_recommendation)"
   ]
  },
  {
   "cell_type": "markdown",
   "id": "196471b2",
   "metadata": {},
   "source": [
    "## Summary\n",
    "\n",
    "##### By following these recommendations, the housing society can ensure that they have both a highly-rated decorator and a cost-effective caterer for the grand event. This balanced approach should help optimize the event experience while minimizing costs, ultimately contributing to the success of the event.\n",
    "\n",
    "\n",
    "##### In conclusion, this analysis provides a solid foundation for event planning, taking into account resident demographics, participation rates, budgeting, and vendor selection. By following these recommendations, the housing society can ensure a well-organized and enjoyable event that caters to the preferences and needs of its diverse resident population while making efficient use of available resources."
   ]
  },
  {
   "cell_type": "code",
   "execution_count": null,
   "id": "2928a32b",
   "metadata": {},
   "outputs": [],
   "source": []
  }
 ],
 "metadata": {
  "kernelspec": {
   "display_name": "Python 3 (ipykernel)",
   "language": "python",
   "name": "python3"
  },
  "language_info": {
   "codemirror_mode": {
    "name": "ipython",
    "version": 3
   },
   "file_extension": ".py",
   "mimetype": "text/x-python",
   "name": "python",
   "nbconvert_exporter": "python",
   "pygments_lexer": "ipython3",
   "version": "3.11.5"
  }
 },
 "nbformat": 4,
 "nbformat_minor": 5
}
