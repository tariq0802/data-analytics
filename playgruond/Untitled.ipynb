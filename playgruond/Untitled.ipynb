{
 "cells": [
  {
   "cell_type": "code",
   "execution_count": 14,
   "id": "79787a89",
   "metadata": {},
   "outputs": [
    {
     "data": {
      "text/plain": [
       "'today? doing u are how Hello,'"
      ]
     },
     "execution_count": 14,
     "metadata": {},
     "output_type": "execute_result"
    }
   ],
   "source": [
    "string = \"Hello, how are u doing today?\"\n",
    "words = string.split(' ')\n",
    "reverse = ' '.join(words[::-1])\n",
    "reverse"
   ]
  },
  {
   "cell_type": "code",
   "execution_count": 3,
   "id": "00cb6b28",
   "metadata": {},
   "outputs": [
    {
     "name": "stdout",
     "output_type": "stream",
     "text": [
      "{1: 1, 2: 4, 3: 9, 4: 16, 5: 25}\n"
     ]
    }
   ],
   "source": [
    "Numbers_list = [1, 2, 3, 4, 5]\n",
    "Numbers_dict = {}\n",
    "\n",
    "for number in Numbers_list:\n",
    "    Numbers_dict[number] = number ** 2\n",
    "print(Numbers_dict)"
   ]
  },
  {
   "cell_type": "code",
   "execution_count": 5,
   "id": "82fd2628",
   "metadata": {},
   "outputs": [
    {
     "name": "stdout",
     "output_type": "stream",
     "text": [
      "11\n"
     ]
    }
   ],
   "source": [
    "string = \"Hello, how are you doing today?\"\n",
    "vowels = ['a', 'e', 'i', 'o', 'u']\n",
    "vowel_count = 0\n",
    "\n",
    "for i in string.lower():\n",
    "    if i in vowels:\n",
    "        vowel_count += 1\n",
    "        \n",
    "print(vowel_count)"
   ]
  },
  {
   "cell_type": "code",
   "execution_count": 9,
   "id": "80769932",
   "metadata": {},
   "outputs": [
    {
     "name": "stdout",
     "output_type": "stream",
     "text": [
      "The string is not a palindrome\n"
     ]
    }
   ],
   "source": [
    "input_str = \"A man, a plan, a canal, Panama!\"\n",
    "cleaned_str = ''\n",
    "\n",
    "for char in input_str:\n",
    "    if char.isalnum():\n",
    "        cleaned_str += char.lower()\n",
    "\n",
    "if cleaned_str[::-1] == cleaned_str:\n",
    "    print(\"The string is a palindrome\")\n",
    "else:\n",
    "    print(\"The string is not a palindrome\")\n"
   ]
  },
  {
   "cell_type": "code",
   "execution_count": null,
   "id": "e034df6d",
   "metadata": {},
   "outputs": [],
   "source": []
  }
 ],
 "metadata": {
  "kernelspec": {
   "display_name": "Python 3 (ipykernel)",
   "language": "python",
   "name": "python3"
  },
  "language_info": {
   "codemirror_mode": {
    "name": "ipython",
    "version": 3
   },
   "file_extension": ".py",
   "mimetype": "text/x-python",
   "name": "python",
   "nbconvert_exporter": "python",
   "pygments_lexer": "ipython3",
   "version": "3.11.5"
  }
 },
 "nbformat": 4,
 "nbformat_minor": 5
}
