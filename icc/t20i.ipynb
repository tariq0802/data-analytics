{
 "cells": [
  {
   "cell_type": "code",
   "execution_count": 28,
   "id": "8229b750",
   "metadata": {},
   "outputs": [],
   "source": [
    "from selenium import webdriver\n",
    "from selenium.webdriver.chrome.service import Service\n",
    "from selenium.webdriver.common.by import By\n",
    "from selenium.webdriver.support.ui import WebDriverWait\n",
    "from selenium.webdriver.support import expected_conditions as EC\n",
    "from selenium.common.exceptions import NoSuchElementException\n",
    "from selenium.webdriver.support.ui import Select\n",
    "from datetime import datetime\n",
    "import pandas as pd\n",
    "import time\n",
    "import os"
   ]
  },
  {
   "cell_type": "code",
   "execution_count": 40,
   "id": "a1771c82",
   "metadata": {},
   "outputs": [],
   "source": [
    "service = Service(executable_path='/Applications/Chdriver/chromedriver')\n",
    "driver = webdriver.Chrome(service=service)\n",
    "\n",
    "url = 'https://www.icc-cricket.com/fixtures-results'\n",
    "driver.get(url)\n",
    "\n",
    "time.sleep(2)\n",
    "\n",
    "calender = driver.find_element(By.CLASS_NAME, 'si-date-range')\n",
    "calender.click()\n",
    "\n",
    "month_dropdown = driver.find_element(By.CLASS_NAME, 'flatpickr-monthDropdown-months')\n",
    "select = Select(month_dropdown)\n",
    "select.select_by_visible_text('January')\n",
    "\n",
    "year_input = driver.find_element(By.XPATH, '//input[@class=\"numInput cur-year\"]')\n",
    "year_input.clear()\n",
    "year_input.send_keys('2015')\n",
    "\n",
    "date_element = driver.find_element(By.XPATH, '//span[@class=\"flatpickr-day\" and @aria-label=\"January 1, 2015\"]')\n",
    "date_element.click()\n",
    "\n",
    "time.sleep(2)\n",
    "\n",
    "time.sleep(8)\n",
    "driver.quit()"
   ]
  },
  {
   "cell_type": "code",
   "execution_count": null,
   "id": "ed056c9f",
   "metadata": {},
   "outputs": [],
   "source": []
  },
  {
   "cell_type": "code",
   "execution_count": null,
   "id": "534e7ef0",
   "metadata": {},
   "outputs": [],
   "source": []
  }
 ],
 "metadata": {
  "kernelspec": {
   "display_name": "Python 3 (ipykernel)",
   "language": "python",
   "name": "python3"
  },
  "language_info": {
   "codemirror_mode": {
    "name": "ipython",
    "version": 3
   },
   "file_extension": ".py",
   "mimetype": "text/x-python",
   "name": "python",
   "nbconvert_exporter": "python",
   "pygments_lexer": "ipython3",
   "version": "3.11.5"
  }
 },
 "nbformat": 4,
 "nbformat_minor": 5
}
